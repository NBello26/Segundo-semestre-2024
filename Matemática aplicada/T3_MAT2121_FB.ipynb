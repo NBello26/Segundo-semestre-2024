{
 "cells": [
  {
   "cell_type": "markdown",
   "metadata": {},
   "source": [
    "Integrantes: Nicolás Bello, Rodrigo Vargas, Francisco Vera."
   ]
  },
  {
   "cell_type": "markdown",
   "metadata": {},
   "source": [
    "# El enigma de la Flor Matakiterani: Desentrañando patrones matemáticos"
   ]
  },
  {
   "cell_type": "markdown",
   "metadata": {},
   "source": [
    "En una misteriosa y enigmática isla, florece una planta única en el mundo: la Flor Matakiterani. Esta flor, venerada por los isleños, es famosa por su belleza excepcional y su patrón único de crecimiento en el número de pétalos. Según las leyendas locales, la Flor Matakiterani posee propiedades mágicas y curativas. Los habitantes de la isla han observado que estas flores pueden producir desde un mínimo de $8$ pétalos y hasta un asombroso máximo de $1502$ pétalos por día. En este taller, exploraremos las propiedades matemáticas de esta flor. \n",
    "\n",
    "1. La Flor Matakiterani sigue una secuencia específica en el número de pétalos que la flor produce cada día. Después de años de observación, los isleños han descubierto que la cantidad de pétalos que la flor produce en el $n$-ésimo día sigue la fórmula: $F_{n} = 6n + 2$, dónde $n$ corresponde al número de días. Calcula cuántos pétalos producirá la Flor Matakiterani en el día $12$.\n",
    "1. ¿Cuántos días deben transcurrir para que la flor alcance su valor máximo de pétalos producidos?\n",
    "1. ¿Existe un día en que la flor Matakiterani produzca $912$ pétalos? Explique.\n",
    "1. Los isleños descubrieron otra flor cuyas propiedades parecen estar ligadas a otro tipo de secuencia. Durante los primeros $8$ días, esta flor crece de manera que el número de pétalos producidos en el $n$-ésimo día se duplica con respecto al día anterior. Si el primer día produce $5$ pétalos, construye la expresión algebraica $G_{n}$ que represente el número de pétalos producidos en el $n$-ésimo día e imprime ordenadamente la cantidad de pétalos producidos durante los primeros ocho días.\n",
    "1. Los isleños han notado que, luego de los primeros $8$ días, la magia de esta segunda flor pierde potencia, haciendo que el crecimiento sea más lento, modelado por la expresión: $$H_n = 4 \\cdot (n - 9)\\text{ para }n > 8.$$ Calcula el total de pétalos producidos por esta segunda flor al finalizar un mes de $31$ días, considerando que comienza a florecer el día $1$.\n"
   ]
  },
  {
   "cell_type": "markdown",
   "metadata": {},
   "source": [
    "\n",
    "1. La Flor Matakiterani sigue una secuencia específica en el número de pétalos que la flor produce cada día. Después de años de observación, los isleños han descubierto que la cantidad de pétalos que la flor produce en el $n$-ésimo día sigue la fórmula: $F_{n} = 6n + 2$, dónde $n$ corresponde al número de días. Calcula cuántos pétalos producirá la Flor Matakiterani en el día $12$."
   ]
  },
  {
   "cell_type": "code",
   "execution_count": 29,
   "metadata": {},
   "outputs": [
    {
     "name": "stdout",
     "output_type": "stream",
     "text": [
      "Respuesta 1:\n",
      "F12 = 6 * 12 + 2 = 74\n",
      "La cantidad de pétalos que producirá la flor en el dia 12 será de 74.\n"
     ]
    }
   ],
   "source": [
    "print(\"Respuesta 1:\")\n",
    "print(f\"F12 = 6 * 12 + 2 = {6*12+2}\")\n",
    "print(f\"La cantidad de pétalos que producirá la flor en el dia 12 será de {6*12+2}.\")"
   ]
  },
  {
   "cell_type": "markdown",
   "metadata": {},
   "source": [
    "2. ¿Cuántos días deben transcurrir para que la flor alcance su valor máximo de pétalos producidos?"
   ]
  },
  {
   "cell_type": "code",
   "execution_count": 35,
   "metadata": {},
   "outputs": [
    {
     "name": "stdout",
     "output_type": "stream",
     "text": [
      "Respuesta 2:\n",
      "1502 = 6 * n + 2\n",
      "1502 = 6 * n + 2 - 2 (/ -2)\n",
      "1502 - 2 = 6 * n\n",
      "(1502 - 2)/6 = n * 6 / 6 (/ :6)\n",
      "(1502 - 2)/6 = n\n",
      "250.0 =n\n",
      "Deben transcurrir 250 días para que la flor alcance su producción de pétalos máxima.\n"
     ]
    }
   ],
   "source": [
    "print(\"Respuesta 2:\")\n",
    "print(f\"1502 = 6 * n + 2\")\n",
    "print(f\"1502 = 6 * n + 2 - 2 (/ -2)\")\n",
    "print(f\"1502 - 2 = 6 * n\")\n",
    "print(f\"(1502 - 2)/6 = n * 6 / 6 (/ :6)\")\n",
    "print(f\"(1502 - 2)/6 = n\")\n",
    "print(f\"{(1502 - 2)/6} =n\")\n",
    "print(f\"Deben transcurrir 250 días para que la flor alcance su producción de pétalos máxima.\")"
   ]
  },
  {
   "cell_type": "markdown",
   "metadata": {},
   "source": [
    "3. ¿Existe un día en que la flor Matakiterani produzca $912$ pétalos? Explique."
   ]
  },
  {
   "cell_type": "code",
   "execution_count": 34,
   "metadata": {},
   "outputs": [
    {
     "name": "stdout",
     "output_type": "stream",
     "text": [
      "Respuesta 3:\n",
      "912 = 6 * n + 2\n",
      "912 - 2 = 6 * n + 2 - 2 (/ -2)\n",
      "912 - 2 = 6 * n\n",
      "(912 - 2)/6 = n * 6 / 6 (/ :6)\n",
      "(912 - 2)/6 = n\n",
      "151.66666666666666 =n\n",
      "Reemplazando resulta que para el dia 151.6 la flor producirá 912 pétalos, pero si seguimos las reglas de sucesión \"La posición \"n\" del término no puede ser un número negativo o decimal\"\n",
      "el resultado al ser un número decimal, nos dice que no existe un día que produzca exactamente 912 pétalos.\n"
     ]
    }
   ],
   "source": [
    "print(\"Respuesta 3:\")\n",
    "print(f\"912 = 6 * n + 2\")\n",
    "print(f\"912 - 2 = 6 * n + 2 - 2 (/ -2)\")\n",
    "print(f\"912 - 2 = 6 * n\")\n",
    "print(f\"(912 - 2)/6 = n * 6 / 6 (/ :6)\")\n",
    "print(f\"(912 - 2)/6 = n\")\n",
    "print(f\"{(912 - 2)/6} =n\")\n",
    "print(f\"Reemplazando resulta que para el dia 151.6 la flor producirá 912 pétalos, pero si seguimos las reglas de sucesión \\\"La posición \\\"n\\\" del término no puede ser un número negativo o decimal\\\"\")\n",
    "print(f\"el resultado al ser un número decimal, nos dice que no existe un día que produzca exactamente 912 pétalos.\")"
   ]
  },
  {
   "cell_type": "markdown",
   "metadata": {},
   "source": [
    "4. Los isleños descubrieron otra flor cuyas propiedades parecen estar ligadas a otro tipo de secuencia. Durante los primeros $8$ días, esta flor crece de manera que el número de pétalos producidos en el $n$-ésimo día se duplica con respecto al día anterior. Si el primer día produce $5$ pétalos, construye la expresión algebraica $G_{n}$ que represente el número de pétalos producidos en el $n$-ésimo día e imprime ordenadamente la cantidad de pétalos producidos durante los primeros ocho días."
   ]
  },
  {
   "cell_type": "code",
   "execution_count": 36,
   "metadata": {},
   "outputs": [
    {
     "name": "stdout",
     "output_type": "stream",
     "text": [
      "Respuesta 4:\n",
      "Siguiendo los datos entregados por el contexto de la pregunta, la expresión algebraica será: Gn = 5 * 2 **(n-1), con n = el número del día.\n",
      "G1 = 5 (Cantidad de pétalos producidos el día 1)\n",
      "G2 = 10 (Cantidad de pétalos producidos el día 2)\n",
      "G3 = 20 (Cantidad de pétalos producidos el día 3)\n",
      "G4 = 40 (Cantidad de pétalos producidos el día 4)\n",
      "G5 = 80 (Cantidad de pétalos producidos el día 5)\n",
      "G6 = 160 (Cantidad de pétalos producidos el día 6)\n",
      "G7 = 320 (Cantidad de pétalos producidos el día 7)\n",
      "G8 = 640 (Cantidad de pétalos producidos el día 8)\n"
     ]
    }
   ],
   "source": [
    "# an = a1 * r **(n-1)\n",
    "# an = 5 * 2**(n-1)\n",
    "print(\"Respuesta 4:\")\n",
    "print(\"Siguiendo los datos entregados por el contexto de la pregunta, la expresión algebraica será: Gn = 5 * 2 **(n-1), con n = el número del día.\")\n",
    "for i in range(8):\n",
    "    n = i+1\n",
    "    an = 5 * 2 **(n-1)\n",
    "    print(f\"G{n} = {an} (Cantidad de pétalos producidos el día {n})\")"
   ]
  },
  {
   "cell_type": "markdown",
   "metadata": {},
   "source": [
    "5. Los isleños han notado que, luego de los primeros $8$ días, la magia de esta segunda flor pierde potencia, haciendo que el crecimiento sea más lento, modelado por la expresión: $$H_n = 4 \\cdot (n - 9)\\text{ para }n > 8.$$ Calcula el total de pétalos producidos por esta segunda flor al finalizar un mes de $31$ días, considerando que comienza a florecer el día $1$."
   ]
  },
  {
   "cell_type": "code",
   "execution_count": 28,
   "metadata": {},
   "outputs": [
    {
     "name": "stdout",
     "output_type": "stream",
     "text": [
      "Respuesta 5:\n",
      "H9 = 0 (Cantidad de pétalos producidos el día 9)\n",
      "H10 = 4 (Cantidad de pétalos producidos el día 10)\n",
      "H11 = 8 (Cantidad de pétalos producidos el día 11)\n",
      "H12 = 12 (Cantidad de pétalos producidos el día 12)\n",
      "H13 = 16 (Cantidad de pétalos producidos el día 13)\n",
      "H14 = 20 (Cantidad de pétalos producidos el día 14)\n",
      "H15 = 24 (Cantidad de pétalos producidos el día 15)\n",
      "H16 = 28 (Cantidad de pétalos producidos el día 16)\n",
      "H17 = 32 (Cantidad de pétalos producidos el día 17)\n",
      "H18 = 36 (Cantidad de pétalos producidos el día 18)\n",
      "H19 = 40 (Cantidad de pétalos producidos el día 19)\n",
      "H20 = 44 (Cantidad de pétalos producidos el día 20)\n",
      "H21 = 48 (Cantidad de pétalos producidos el día 21)\n",
      "H22 = 52 (Cantidad de pétalos producidos el día 22)\n",
      "H23 = 56 (Cantidad de pétalos producidos el día 23)\n",
      "H24 = 60 (Cantidad de pétalos producidos el día 24)\n",
      "H25 = 64 (Cantidad de pétalos producidos el día 25)\n",
      "H26 = 68 (Cantidad de pétalos producidos el día 26)\n",
      "H27 = 72 (Cantidad de pétalos producidos el día 27)\n",
      "H28 = 76 (Cantidad de pétalos producidos el día 28)\n",
      "H29 = 80 (Cantidad de pétalos producidos el día 29)\n",
      "H30 = 84 (Cantidad de pétalos producidos el día 30)\n",
      "H31 = 88 (Cantidad de pétalos producidos el día 31)\n",
      "\n",
      "El total de pétalos tras 8 días es de: 1275.\n",
      "El total de pétalos desde el día 9 hasta el 31 es de 1012.\n",
      "\n",
      "La cantidad total de pétalos producidos por la segunda flor al finalizar un mes de 31 días será de 2287.\n"
     ]
    }
   ],
   "source": [
    "print(\"Respuesta 5:\")\n",
    "lista = []\n",
    "lista2 = []\n",
    "for i in range(8):\n",
    "    n = i+1\n",
    "    an = 5 * 2 **(n-1)\n",
    "    lista.append(an)\n",
    "contador = sum(lista)\n",
    "for x in range(8,31):\n",
    "    n = x+1\n",
    "    an = 4 * (n-9)\n",
    "    lista.append(an)\n",
    "    lista2.append(an)\n",
    "    print(f\"H{n} = {an} (Cantidad de pétalos producidos el día {n})\")\n",
    "print(\"\")\n",
    "print(f\"El total de pétalos tras 8 días es de: {contador}.\")\n",
    "print(f\"El total de pétalos desde el día 9 hasta el 31 es de {sum(lista2)}.\")\n",
    "suma = sum(lista)\n",
    "print(\"\")\n",
    "print(f\"La cantidad total de pétalos producidos por la segunda flor al finalizar un mes de 31 días será de {suma}.\")"
   ]
  }
 ],
 "metadata": {
  "kernelspec": {
   "display_name": "Python 3",
   "language": "python",
   "name": "python3"
  },
  "language_info": {
   "codemirror_mode": {
    "name": "ipython",
    "version": 3
   },
   "file_extension": ".py",
   "mimetype": "text/x-python",
   "name": "python",
   "nbconvert_exporter": "python",
   "pygments_lexer": "ipython3",
   "version": "3.12.5"
  }
 },
 "nbformat": 4,
 "nbformat_minor": 2
}
