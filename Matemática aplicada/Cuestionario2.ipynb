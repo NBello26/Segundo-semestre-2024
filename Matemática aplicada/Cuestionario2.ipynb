{
 "cells": [
  {
   "cell_type": "code",
   "execution_count": 1,
   "metadata": {},
   "outputs": [],
   "source": [
    "#Expresión es a1(primer termino)+ diferencia * (n-1), esto para sucesiones aritmeticas\n",
    "#Expresion es a1(primer termino) * (r(razón) ** (n-1))\n",
    "import numpy as np"
   ]
  },
  {
   "cell_type": "markdown",
   "metadata": {},
   "source": [
    "Sea una sucesión cuyos tres primeros términos son 200, 224 y 248. Si la sucesión mantiene el mismo patrón de crecimiento sucesivamente.\n",
    "\n"
   ]
  },
  {
   "cell_type": "markdown",
   "metadata": {},
   "source": [
    "1.- El valor del término que ocupa el lugar 36 en esta sucesión es:\n",
    "\n"
   ]
  },
  {
   "cell_type": "code",
   "execution_count": 3,
   "metadata": {},
   "outputs": [
    {
     "name": "stdout",
     "output_type": "stream",
     "text": [
      "Respuesta: 1040\n"
     ]
    }
   ],
   "source": [
    "a1 = 200;\n",
    "d = 24\n",
    "#a_36 = a1 + d * (36-1)\n",
    "print(f\"Respuesta: {a1 + d * (36-1)}\")"
   ]
  },
  {
   "cell_type": "markdown",
   "metadata": {},
   "source": [
    "2.- ¿Cuál es la suma de los primeros 36 términos de esta sucesión? \n",
    "\n"
   ]
  },
  {
   "cell_type": "code",
   "execution_count": 5,
   "metadata": {},
   "outputs": [
    {
     "name": "stdout",
     "output_type": "stream",
     "text": [
      "El resultado de la suma de los primeros 36 términos es de 22320\n"
     ]
    }
   ],
   "source": [
    "lista = []\n",
    "for i in range(36):\n",
    "    n = i+1\n",
    "    resultado = a1 + d * (n-1)\n",
    "    lista.append(resultado)\n",
    "print(f\"El resultado de la suma de los primeros 36 términos es de {sum(lista)}\")"
   ]
  },
  {
   "cell_type": "markdown",
   "metadata": {},
   "source": [
    "\n",
    "Una cuenta de ahorros proporciona un interés mensual del 1,2%. La cuenta se abre con $2.000.000. En este contexto, se define ﻿a subíndice n﻿ como el saldo en pesos que presenta esta cuenta de ahorros transcurridos ﻿n﻿ meses."
   ]
  },
  {
   "cell_type": "markdown",
   "metadata": {},
   "source": [
    "1.- La expresión algebraica que permite calcular cada término de la sucesión ﻿a subíndice n﻿ es:"
   ]
  },
  {
   "cell_type": "code",
   "execution_count": 6,
   "metadata": {},
   "outputs": [
    {
     "name": "stdout",
     "output_type": "stream",
     "text": [
      "2.000.000 * 1.012**n\n"
     ]
    }
   ],
   "source": [
    "print(f\"2.000.000 * 1.012**n\")"
   ]
  },
  {
   "cell_type": "markdown",
   "metadata": {},
   "source": [
    "2.- El saldo aproximado, en la cuenta de ahorros al cabo de 9 meses será:"
   ]
  },
  {
   "cell_type": "code",
   "execution_count": 8,
   "metadata": {},
   "outputs": [
    {
     "name": "stdout",
     "output_type": "stream",
     "text": [
      "El saldo tras 9 meses será: 2226664\n"
     ]
    }
   ],
   "source": [
    "print(f\"El saldo tras 9 meses será: {(2000000 * 1.012**9):.0f}\")"
   ]
  },
  {
   "cell_type": "markdown",
   "metadata": {},
   "source": [
    "\n",
    "Una empresa de tecnología está optimizando sus servidores. Para ello, mide cada mes las transacciones por segundo (TPS) de sus servidores. Se ha obtenido que el segundo mes, el rendimiento del servidor es 1.066 TPS y el quinto mes, el rendimiento es de 8.528 TPS."
   ]
  },
  {
   "cell_type": "markdown",
   "metadata": {},
   "source": [
    "1.- Si el rendimiento de los servidores crece a razón constante, ¿cuál es el rendimiento de un servidor el noveno mes? \n",
    "\n"
   ]
  },
  {
   "cell_type": "code",
   "execution_count": 20,
   "metadata": {},
   "outputs": [
    {
     "name": "stdout",
     "output_type": "stream",
     "text": [
      "a9 = 533.0 * 2.0 ** (9-1) -> 136448\n"
     ]
    }
   ],
   "source": [
    "#Expresion es a1(primer termino) * (r(razón) ** (n-1))\n",
    "\"\"\"\n",
    "1066 = a1 * r **(2-1) ->  1066 = a1 * r **(1)\n",
    "8528 = a1 * r **(5-1) ->  8528 = a1 * r **(4)\n",
    "\n",
    "Dividimos el de abajo por el de arriba para sacar la razon\n",
    "8258/1066 = a1*r**4/a1*r**1 -> 8258/1066 = r**4/r**1 -> 8258/1066 = r**3 -> r = (8258/1066)**1/3\n",
    "\"\"\"\n",
    "r = (8528/1066)**(1/3)\n",
    "a1 = 1066 / r\n",
    "\n",
    "print(f\"a9 = {a1} * {r} ** ({9}-{1}) -> {(a1 * r ** (9-1)):.0f}\")"
   ]
  },
  {
   "cell_type": "markdown",
   "metadata": {},
   "source": [
    "2- Si el rendimiento de los servidores crece a razón constante, ¿en qué mes el rendimiento de un servidor es de 34.112 TPS? \n",
    "\n"
   ]
  },
  {
   "cell_type": "code",
   "execution_count": 22,
   "metadata": {},
   "outputs": [
    {
     "name": "stdout",
     "output_type": "stream",
     "text": [
      "El lugar para el número 34.112 será: 7.0\n"
     ]
    }
   ],
   "source": [
    "print(f\"El lugar para el número 34.112 será: {round(((np.log((34112/a1))/np.log(r))+1),1)}\")\n"
   ]
  },
  {
   "cell_type": "markdown",
   "metadata": {},
   "source": [
    "13.-"
   ]
  },
  {
   "cell_type": "code",
   "execution_count": null,
   "metadata": {},
   "outputs": [],
   "source": []
  },
  {
   "cell_type": "markdown",
   "metadata": {},
   "source": [
    "14.- ¿Cuántos minutos debe ejecutarse el Servicio A en cada servidor?\n",
    "\n"
   ]
  },
  {
   "cell_type": "code",
   "execution_count": 7,
   "metadata": {},
   "outputs": [
    {
     "name": "stdout",
     "output_type": "stream",
     "text": [
      "Respuesta = [[4.]\n",
      " [2.]]\n"
     ]
    }
   ],
   "source": [
    "N = np.array([\n",
    "    [2,1],\n",
    "    [3,-2]\n",
    "])\n",
    "M = np.array([\n",
    "    [10],\n",
    "    [8]\n",
    "])\n",
    "NI = np.linalg.inv(N)\n",
    "Sol = NI.dot(M)\n",
    "print(f\"Respuesta = {Sol}\")"
   ]
  },
  {
   "cell_type": "markdown",
   "metadata": {},
   "source": [
    "15 a 19\n"
   ]
  },
  {
   "cell_type": "code",
   "execution_count": 9,
   "metadata": {},
   "outputs": [
    {
     "name": "stdout",
     "output_type": "stream",
     "text": [
      "[[ 2. -3.]\n",
      " [-1.  2.]]\n"
     ]
    }
   ],
   "source": [
    "A = np.array([\n",
    "    [2,3],\n",
    "    [1,2]\n",
    "])\n",
    "AI = np.linalg.inv(A)\n",
    "print(AI)"
   ]
  },
  {
   "cell_type": "code",
   "execution_count": 10,
   "metadata": {},
   "outputs": [
    {
     "name": "stdout",
     "output_type": "stream",
     "text": [
      "[[2 1]\n",
      " [3 2]]\n"
     ]
    }
   ],
   "source": [
    "A = np.array([\n",
    "    [2,3],\n",
    "    [1,2]\n",
    "])\n",
    "AT = A.T\n",
    "print(AT)"
   ]
  },
  {
   "cell_type": "code",
   "execution_count": 11,
   "metadata": {},
   "outputs": [
    {
     "name": "stdout",
     "output_type": "stream",
     "text": [
      "[[4 4]\n",
      " [4 4]]\n"
     ]
    }
   ],
   "source": [
    "S = A + AT\n",
    "print(S)"
   ]
  },
  {
   "cell_type": "markdown",
   "metadata": {},
   "source": [
    "20.-"
   ]
  },
  {
   "cell_type": "code",
   "execution_count": 12,
   "metadata": {},
   "outputs": [
    {
     "name": "stdout",
     "output_type": "stream",
     "text": [
      "Respuesta = [[ 8.]\n",
      " [12.]]\n"
     ]
    }
   ],
   "source": [
    "A = np.array([\n",
    "    [2,3],\n",
    "    [1,4]\n",
    "])\n",
    "b = np.array([\n",
    "    [52],\n",
    "    [56]\n",
    "])\n",
    "AI = np.linalg.inv(A)\n",
    "Sol = AI.dot(b)\n",
    "print(f\"Respuesta = {Sol}\")"
   ]
  }
 ],
 "metadata": {
  "kernelspec": {
   "display_name": "base",
   "language": "python",
   "name": "python3"
  },
  "language_info": {
   "codemirror_mode": {
    "name": "ipython",
    "version": 3
   },
   "file_extension": ".py",
   "mimetype": "text/x-python",
   "name": "python",
   "nbconvert_exporter": "python",
   "pygments_lexer": "ipython3",
   "version": "3.8.5"
  }
 },
 "nbformat": 4,
 "nbformat_minor": 2
}
