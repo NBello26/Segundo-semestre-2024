{
  "cells": [
    {
      "cell_type": "code",
      "execution_count": null,
      "metadata": {},
      "outputs": [],
      "source": [
        "#Expresión es a1(primer termino)+ diferencia * (n-1), esto para sucesiones aritmeticas\n",
        "#Expresion es a1(primer termino) * (r(razón) ** (n-1))"
      ]
    },
    {
      "cell_type": "markdown",
      "metadata": {
        "id": "Jsg7AmugfdN3"
      },
      "source": [
        "# Problema 1"
      ]
    },
    {
      "cell_type": "markdown",
      "metadata": {
        "id": "_IzpNklvfgKe"
      },
      "source": [
        "Considere la sucesión $a_{n} = 3n^{2} + 7$. Por medio de un código en *Python* despliega en pantalla:\n",
        "\n",
        "1. Los primeros $5$ términos.\n",
        "2. Los $5$ términos que vienen inmediatamente después del decimoquinto término."
      ]
    },
    {
      "cell_type": "code",
      "execution_count": 6,
      "metadata": {},
      "outputs": [
        {
          "name": "stdout",
          "output_type": "stream",
          "text": [
            "1.-\n",
            "Termino para la sucesión 1 será : 10\n",
            "Termino para la sucesión 2 será : 19\n",
            "Termino para la sucesión 3 será : 34\n",
            "Termino para la sucesión 4 será : 55\n",
            "Termino para la sucesión 5 será : 82\n",
            "\n",
            "2.-\n",
            "Termino para la sucesión 16 será : 775\n",
            "Termino para la sucesión 17 será : 874\n",
            "Termino para la sucesión 18 será : 979\n",
            "Termino para la sucesión 19 será : 1090\n",
            "Termino para la sucesión 20 será : 1207\n"
          ]
        }
      ],
      "source": [
        "print(f\"1.-\");\n",
        "for i in range(1,6):\n",
        "    print(F\"Termino para la sucesión {i} será : {3*((i)**2) + 7}\")\n",
        "    \n",
        "print(\"\");\n",
        "print(\"2.-\")\n",
        "for i in range(16,21):\n",
        "    print(F\"Termino para la sucesión {i} será : {3*((i)**2) + 7}\")\n"
      ]
    },
    {
      "cell_type": "markdown",
      "metadata": {
        "id": "MpHLoYWfk97E"
      },
      "source": [
        "# Problema 2"
      ]
    },
    {
      "cell_type": "markdown",
      "metadata": {
        "id": "TdrPqS7Mk_l0"
      },
      "source": [
        "Considere la sucesión $g_{n} = 5n^{3}$. Implemente un código en *Python* que muestre en pantalla:\n",
        "\n",
        "1. Los primeros $4$ términos de la sucesión.\n",
        "2. Los $4$ términos que vienen inmediatamente después del octavo término.\n",
        "3. Determinar si el término $40.000$ pertenece a la sucesión. Si es así, indicar en qué posición se encuentra."
      ]
    },
    {
      "cell_type": "code",
      "execution_count": 25,
      "metadata": {},
      "outputs": [
        {
          "name": "stdout",
          "output_type": "stream",
          "text": [
            "1.-\n",
            "Termino para la sucesión 1 será : 5\n",
            "Termino para la sucesión 2 será : 40\n",
            "Termino para la sucesión 3 será : 135\n",
            "Termino para la sucesión 4 será : 320\n",
            "\n",
            "2.-\n",
            "Termino para la sucesión 9 será : 3645\n",
            "Termino para la sucesión 10 será : 5000\n",
            "Termino para la sucesión 11 será : 6655\n",
            "Termino para la sucesión 12 será : 8640\n",
            "\n",
            "3.-\n",
            "La posicion para cuando el valor sea de 40.000 será de: 20\n"
          ]
        }
      ],
      "source": [
        "print(f\"1.-\");\n",
        "for i in range(1,5):\n",
        "    print(F\"Termino para la sucesión {i} será : {5* (i ** 3)}\")\n",
        "    \n",
        "print(\"\");\n",
        "print(\"2.-\")\n",
        "for i in range(9,13):\n",
        "    print(F\"Termino para la sucesión {i} será : {5* (i ** 3)}\")\n",
        "    \n",
        "print(\"\");\n",
        "print(\"3.-\")\n",
        "flag = True;\n",
        "n = 0;\n",
        "while(flag):\n",
        "    if ((5 * (n**3)) <= 40000):\n",
        "        n += 1;\n",
        "    else:\n",
        "        flag = False;\n",
        "if ((5 * ((n-1)**3)) == 40000):\n",
        "    print(f\"La posicion para cuando el valor sea de 40.000 será de: {n-1}\")"
      ]
    },
    {
      "cell_type": "markdown",
      "metadata": {
        "id": "7GDU-KDLuR7i"
      },
      "source": [
        "# Problema 3"
      ]
    },
    {
      "cell_type": "markdown",
      "metadata": {
        "id": "GG1duXd1uU6Z"
      },
      "source": [
        "La sucesión de Fibonacci es una serie de números en la que cada número, desde el tercero en adelante, es la suma de los dos anteriores. Comienza con el $0$ y $1$, tal como se observa a continuación:\n",
        "\n",
        "$$0, 1, 1, 2, 3, 5, 8, 13, ...$$\n",
        "\n",
        "Formalmente, la sucesión se define de la siguiente manera:\n",
        "\n",
        "\\begin{split}\n",
        "F(0) &= 0\\\\\n",
        "F(1) &= 1\\\\\n",
        "F(n) &= F(n - 1) + F(n - 2), \\ \\text{ para $n \\geq 2$}\n",
        "\\end{split}\n",
        "\n",
        "Esta sucesión se utiliza en una variedad de contextos en informática y algoritmos debido a sus propiedades matemáticas y patrones.\n",
        "\n",
        "1. Implementa un código en *Python* que muestre en pantalla los primeros $20$ términos de la sucesión.\n",
        "2. Calcula, utilizando un ciclo *for*, la suma de los primeros $30$ términos de la sucesión de Fibonacci."
      ]
    },
    {
      "cell_type": "code",
      "execution_count": 37,
      "metadata": {},
      "outputs": [
        {
          "name": "stdout",
          "output_type": "stream",
          "text": [
            "1.-\n",
            "[0, 1, 1, 2, 3, 5, 8, 13, 21, 34, 55, 89, 144, 233, 377, 610, 987, 1597, 2584, 4181]\n",
            "\n",
            "2.-\n",
            "[0, 1, 1, 2, 3, 5, 8, 13, 21, 34, 55, 89, 144, 233, 377, 610, 987, 1597, 2584, 4181, 6765, 10946, 17711, 28657, 46368, 75025, 121393, 196418, 317811, 514229]\n",
            "La suma de los primeros 30 terminos será: 1346268\n"
          ]
        }
      ],
      "source": [
        "print(\"1.-\")\n",
        "def f(n):\n",
        "    if (n<=1):\n",
        "        return n;\n",
        "    else:\n",
        "        return f(n-1) + f(n-2)\n",
        "n = 20;\n",
        "s_f = [f(i) for i in range(n)]\n",
        "print(s_f)\n",
        "\n",
        "print(\"\")\n",
        "print(\"2.-\")\n",
        "s_f = []\n",
        "n = 30;\n",
        "s_f = [f(i) for i in range(n)]\n",
        "print(s_f)\n",
        "suma = sum(s_f)\n",
        "print(f\"La suma de los primeros 30 terminos será: {suma}\")"
      ]
    },
    {
      "cell_type": "markdown",
      "metadata": {
        "id": "OFL3b7nt8Rq_"
      },
      "source": [
        "# Problema 4"
      ]
    },
    {
      "cell_type": "markdown",
      "metadata": {
        "id": "j5QlZQwJSDsZ"
      },
      "source": [
        "Implementa un código que permita guardar en una lista la sucesión de los primeros $n$ números pares, con $n \\geq 1$. Luego, determina:\n",
        "\n",
        "1. ¿Cuál es el valor del décimo término?\n",
        "2. Calcula, utilizando un ciclo *for*, la suma de los primeros $100$ números pares.\n",
        "3. ¿En qué posición se encuentra el número $58$ dentro de la sucesión?"
      ]
    },
    {
      "cell_type": "code",
      "execution_count": 64,
      "metadata": {},
      "outputs": [
        {
          "name": "stdout",
          "output_type": "stream",
          "text": [
            "[2, 4, 6, 8, 10, 12, 14, 16, 18, 20]\n",
            "1.- El valor del décimo término será de 20\n",
            "2.- La suma de los primeros 100 números pares será de 10100\n",
            "Posición: 24\n",
            "Número: 48\n",
            "Posición: 25\n",
            "Número: 50\n",
            "Posición: 26\n",
            "Número: 52\n",
            "Posición: 27\n",
            "Número: 54\n",
            "Posición: 28\n",
            "Número: 56\n",
            "Posición: 29\n",
            "Número: 58\n",
            "La posición en la que se encuentra el 58 será de 29\n"
          ]
        }
      ],
      "source": [
        "def pares(x): #Entrega la cantidad x de pares que desees\n",
        "    lista = []\n",
        "    flag = True;\n",
        "    i = 0;\n",
        "    while flag:\n",
        "        if (i >=1) and (i % 2 == 0):\n",
        "            lista.append(i)\n",
        "        if (len(lista) == x):\n",
        "            flag = False;\n",
        "        i += 1\n",
        "    return lista\n",
        "\n",
        "listanueva = pares(10);\n",
        "print(listanueva)\n",
        "print(f\"1.- El valor del décimo término será de {listanueva[9]}\");\n",
        "listanueva = pares(100)\n",
        "print(f\"2.- La suma de los primeros 100 números pares será de {sum(listanueva)}\")\n",
        "pos = 1;\n",
        "flag = True;\n",
        "while flag:\n",
        "    if listanueva[pos] > (58-10):\n",
        "        print(f\"Posición: {pos}\")\n",
        "        print(f\"Número: {listanueva[pos-1]}\")\n",
        "    if listanueva[pos-1] == 58:\n",
        "        flag = False;\n",
        "    else:\n",
        "        pos += 1;\n",
        "print(f\"La posición en la que se encuentra el 58 será de {pos}\")\n",
        "\n",
        "\n",
        "\n",
        "\"\"\"\n",
        "a = [];\n",
        "for i in range(10):\n",
        "    n = i+1;\n",
        "    a.append(1+2*(n-1));\n",
        "print(a);\n",
        "\"\"\""
      ]
    },
    {
      "cell_type": "markdown",
      "metadata": {
        "id": "gBcDYpK2Z3GT"
      },
      "source": [
        "# Problema 5"
      ]
    },
    {
      "cell_type": "markdown",
      "metadata": {
        "id": "eS3i68R4Z6YQ"
      },
      "source": [
        "Un nuevo software tiene $500$ usuarios y se espera que el número de usuarios crezca un $15\\%$ respecto al mes anterior. Considere que $b_{n}$ es el número de usuarios transcurridos $n$ meses.\n",
        "\n",
        "1. Calcula cuántos usuarios tendrá el software al cabo de tres meses. ¿Y al cabo de seis meses?\n",
        "2. Mediante un código en *Pyhton* muestra la cantidad de usuarios que tendrá el software cada mes durante el primer año.\n",
        "2. ¿Cuántos usuarios tendrá en total el software luego de un año? Utilice ciclos *for* para calcular."
      ]
    },
    {
      "cell_type": "code",
      "execution_count": 5,
      "metadata": {},
      "outputs": [
        {
          "name": "stdout",
          "output_type": "stream",
          "text": [
            "El primer termino será: 575.0\n",
            "\n",
            "Respuesta 1:\n",
            "A los 3 meses hay 760 usuarios.\n",
            "\n",
            "Respuesta 1.2:\n",
            "A los 6 meses hay 1157 usuarios.\n",
            "\n",
            "Respuesta 2:\n",
            "Al mes habran 575 usuarios.\n",
            "A los 2 meses habran 661 usuarios.\n",
            "A los 3 meses habran 760 usuarios.\n",
            "A los 4 meses habran 875 usuarios.\n",
            "A los 5 meses habran 1006 usuarios.\n",
            "A los 6 meses habran 1157 usuarios.\n",
            "A los 7 meses habran 1330 usuarios.\n",
            "A los 8 meses habran 1530 usuarios.\n",
            "A los 9 meses habran 1759 usuarios.\n",
            "A los 10 meses habran 2023 usuarios.\n",
            "A los 11 meses habran 2326 usuarios.\n",
            "A los 12 meses habran 2675 usuarios.\n",
            "[575, 661, 760, 875, 1006, 1157, 1330, 1530, 1759, 2023, 2326, 2675]\n",
            "\n",
            "Respuesta 3:\n",
            "Despues de un año el software tendra un total de 16677 usuarios\n"
          ]
        }
      ],
      "source": [
        "#Expresion es a1(primer termino) * (r(razón) ** (n-1))\n",
        "#Al se aumento tendremos que sera 100% + 15% = 115% = 1.15 lo que vendría a ser nuestra razón\n",
        "\n",
        "r = 1.15;\n",
        "b0 = 500;\n",
        "b1 = b0*1.15;\n",
        "print(f\"El primer termino será: {b1}\");\n",
        "print(\"\");\n",
        "print(f\"Respuesta 1:\");\n",
        "print(f\"A los 3 meses hay {575*1.15**(3-1):.0f} usuarios.\");\n",
        "\n",
        "print(\"\");\n",
        "print(f\"Respuesta 1.2:\");\n",
        "print(f\"A los 6 meses hay {575*1.15**(6-1):.0f} usuarios.\");\n",
        "\n",
        "print(\"\");\n",
        "print(f\"Respuesta 2:\");\n",
        "lista = []\n",
        "for i in range(12):\n",
        "    n = i+1;\n",
        "    if n == 1:\n",
        "        print(f\"Al mes habran {575*1.15**(n-1):.0f} usuarios.\")\n",
        "    else:\n",
        "        print(f\"A los {n} meses habran {575*1.15**(n-1):.0f} usuarios.\")\n",
        "    lista.append(round(575*1.15**(n-1)));\n",
        "print(lista)\n",
        "\n",
        "print(\"\");\n",
        "print(f\"Respuesta 3:\");\n",
        "print(f\"Despues de un año el software tendra un total de {sum(lista)} usuarios\")       \n",
        "\n"
      ]
    },
    {
      "cell_type": "markdown",
      "metadata": {
        "id": "s2hruXWnJDbS"
      },
      "source": [
        "# Problema 6"
      ]
    },
    {
      "cell_type": "markdown",
      "metadata": {
        "id": "hH_VNmA_Og0U"
      },
      "source": [
        "Un estudiante de ingeniería informática planea ahorrar para un proyecto personal. Para esto, el primer mes deposita $\\$12.000$ y cada mes aumenta el depósito en $\\$2.000$. Considere que $a_{i}$ corresponde al depósito mensual del estudiante. Determine:\n",
        "\n",
        "1. Implementa un código que permita mostrar en pantalla lo que depositó mensualmente durante el primer año.\n",
        "2. ¿Cuánto depositó el estudiante en febrero del segundo año?\n",
        "3. ¿Cuál será el total ahorrado al finalizar dos años?"
      ]
    },
    {
      "cell_type": "code",
      "execution_count": 13,
      "metadata": {},
      "outputs": [
        {
          "name": "stdout",
          "output_type": "stream",
          "text": [
            "Respuesta 1: \n",
            "Al mes ahorro $12000.\n",
            "A los 2 meses ahorro $14000.\n",
            "A los 3 meses ahorro $16000.\n",
            "A los 4 meses ahorro $18000.\n",
            "A los 5 meses ahorro $20000.\n",
            "A los 6 meses ahorro $22000.\n",
            "A los 7 meses ahorro $24000.\n",
            "A los 8 meses ahorro $26000.\n",
            "A los 9 meses ahorro $28000.\n",
            "A los 10 meses ahorro $30000.\n",
            "A los 11 meses ahorro $32000.\n",
            "A los 12 meses ahorro $34000.\n",
            "\n",
            "Respuesta 2:\n",
            "Para febrero del segundo año $38000.\n",
            "\n",
            "Respuesta 2:\n",
            "El ahorro total tras dos años será de $840000.\n"
          ]
        }
      ],
      "source": [
        "#Expresión es a1(primer termino)+ diferencia * (n-1), esto para sucesiones aritmeticas\n",
        "a1 = 12000;\n",
        "diferencia = 2000;\n",
        "print(\"Respuesta 1: \")\n",
        "for i in range(12):\n",
        "    n = i+1;\n",
        "    if n == 1:\n",
        "        print(f\"Al mes ahorro ${a1 + diferencia * (n-1):.0f}.\")\n",
        "    else:\n",
        "        print(f\"A los {n} meses ahorro ${a1 + diferencia * (n-1):.0f}.\")\n",
        "print(\"\")\n",
        "print(\"Respuesta 2:\")\n",
        "print(f\"Para febrero del segundo año ${a1 + diferencia * (14-1):.0f}.\")\n",
        "\n",
        "print(\"\")\n",
        "print(\"Respuesta 2:\")\n",
        "lista = []\n",
        "for i in range(24):\n",
        "    n = i+1;\n",
        "    lista.append((a1 + diferencia * (n-1)))\n",
        "print(f\"El ahorro total tras dos años será de ${sum(lista)}.\")"
      ]
    },
    {
      "cell_type": "markdown",
      "metadata": {
        "id": "G9sEfl4rB3e8"
      },
      "source": [
        "# Problema 7"
      ]
    },
    {
      "cell_type": "markdown",
      "metadata": {
        "id": "KZUNnG20CT4F"
      },
      "source": [
        "Por lo general, los proyectos son organizados en varias etapas que deben completarse secuencialmente.\n",
        "\n",
        "La fase inicial de un proyecto de software tiene una duración de $3$ meses y cada fase subsecuente reduce su duración en un $10 \\%$ debido a la experiencia ganada. Determine:\n",
        "\n",
        "1. ¿Cuánto dura la quinta fase?\n",
        "2. Calcula la duración total del proyecto después de $10$ fases."
      ]
    },
    {
      "cell_type": "code",
      "execution_count": 18,
      "metadata": {},
      "outputs": [
        {
          "name": "stdout",
          "output_type": "stream",
          "text": [
            "Respuesta 1:\n",
            "La quinta fase durará 2.0 meses.\n",
            "\n",
            "Respuesta 2: \n",
            "La duración total del proyecto tras 10 fases será de 19.5 meses.\n"
          ]
        }
      ],
      "source": [
        "#Expresion es a1(primer termino) * (r(razón) ** (n-1))\n",
        "#Al se aumento tendremos que sera 100% - 10% = 900% = 0.9 lo que vendría a ser nuestra razón\n",
        "\n",
        "r = 0.9\n",
        "a1 = 3\n",
        "print(f\"Respuesta 1:\")\n",
        "print(f\"La quinta fase durará {a1 * (r ** (5-1)):.1f} meses.\")\n",
        "print(\"\")\n",
        "print(f\"Respuesta 2: \")\n",
        "lista = []\n",
        "for i in range(10):\n",
        "    n = i+1;\n",
        "    lista.append((a1 * (r ** (n-1))))\n",
        "print(f\"La duración total del proyecto tras 10 fases será de {sum(lista):.1f} meses.\")"
      ]
    },
    {
      "cell_type": "markdown",
      "metadata": {
        "id": "keVOy_xIlU1E"
      },
      "source": [
        "# Problema 8"
      ]
    },
    {
      "cell_type": "markdown",
      "metadata": {
        "id": "QXrNG-zulXil"
      },
      "source": [
        "En una sucesión aritmética, la diferencia entre un término y el anterior es $4$ y el décimo término es $-20$. Determine:\n",
        "\n",
        "1. El primer término de la sucesión.\n",
        "2. La expresión del término de lugar $n$.\n",
        "3. Utilice un código en *Python* para calcular el término que ocupa el lugar $100$.\n",
        "4. Determinar la posición del número $1.680$ en la secuencia. Calcule utilizando un ciclo *while*."
      ]
    },
    {
      "cell_type": "code",
      "execution_count": 24,
      "metadata": {},
      "outputs": [
        {
          "name": "stdout",
          "output_type": "stream",
          "text": [
            "Respuesta 1:\n",
            "El primer termino de la sucesión será: -56\n",
            "\n",
            "Respuesta 2:\n",
            "La expresión del lugar n será: an = -56 + 4 * (n-1)\n",
            "\n",
            "Respuesta 3:\n",
            "El termino que ocupa el lugar número 100 de la sucesión será: 340\n",
            "\n",
            "Respuesta 4:\n",
            "El lugar que ocupará el número 1680 en la sucesión será: 407\n"
          ]
        }
      ],
      "source": [
        "#Expresión es a1(primer termino)+ diferencia * (n-1), esto para sucesiones aritmeticas\n",
        "diferencia = 4\n",
        "print(f\"Respuesta 1:\")\n",
        "a1 = - 20 - (diferencia * (10-1))\n",
        "print(f\"El primer termino de la sucesión será: {a1}\")\n",
        "print(\"\")\n",
        "print(\"Respuesta 2:\")\n",
        "print(f\"La expresión del lugar n será: an = {a1} + {diferencia} * (n-1)\")\n",
        "print(\"\")\n",
        "print(\"Respuesta 3:\")\n",
        "print(f\"El termino que ocupa el lugar número 100 de la sucesión será: {a1 + diferencia * (100-1)}\")\n",
        "print(\"\")\n",
        "print(\"Respuesta 4:\")\n",
        "print(f\"El lugar que ocupará el número 1680 en la sucesión será: {(((1680 - 56)/4)+1):.0f}\")\n"
      ]
    },
    {
      "cell_type": "markdown",
      "metadata": {
        "id": "gFYqGSbdqoqT"
      },
      "source": [
        "# Problema 9"
      ]
    },
    {
      "cell_type": "markdown",
      "metadata": {
        "id": "UtblbNCYqxOM"
      },
      "source": [
        "El tercer término de una sucesión geométrica es $5$ y el sexto término es $40$. Determine:\n",
        "\n",
        "1. La razón geométrica de la sucesión.\n",
        "2. El primer término de la sucesión.\n",
        "3. La expresión del término de lugar $n$.\n",
        "4. Utilice un código en *Python* para calcular el término que ocupa el lugar $8$.\n",
        "4. ¿Qué lugar ocupa en esta sucesión el término $20.480$? Calcule utilizando un ciclo *while*."
      ]
    },
    {
      "cell_type": "code",
      "execution_count": 6,
      "metadata": {},
      "outputs": [
        {
          "name": "stdout",
          "output_type": "stream",
          "text": [
            "Respuesta 1:\n",
            "La razón geométrica será: 2.0\n",
            "\n",
            "Respuesta 2:\n",
            "El primer término de la suceción geométrica será: 1.25\n",
            "\n",
            "Respuesta 3:\n",
            "La expresión para el lugar n será: an = 1.25 * 2.0 ** (n-1)\n",
            "\n",
            "Respuesta 4:\n",
            "La expresión para el lugar 8 será: a8 = 160\n",
            "\n",
            "Respuesta 5:\n",
            "El lugar para el número 20480 será: 15.0\n"
          ]
        }
      ],
      "source": [
        "import math as np\n",
        "#Expresion es a1(primer termino) * (r(razón) ** (n-1))\n",
        "#Al se aumento tendremos que sera 100% - 10% = 900% = 0.9 lo que vendría a ser nuestra razón\n",
        "print(\"Respuesta 1:\")\n",
        "r = (40/5)**(1/3)\n",
        "print(f\"La razón geométrica será: {r}\")\n",
        "print(\"\")\n",
        "print(\"Respuesta 2:\")\n",
        "a1 = (5)/(2**(3-1))\n",
        "print(f\"El primer término de la suceción geométrica será: {a1}\")\n",
        "print(\"\")\n",
        "print(\"Respuesta 3:\")\n",
        "a1 = (5)/(2**(3-1))\n",
        "print(f\"La expresión para el lugar n será: an = {a1} * {r} ** (n-1)\")\n",
        "print(\"\")\n",
        "print(\"Respuesta 4:\")\n",
        "print(f\"La expresión para el lugar 8 será: a8 = {(a1 * r ** (8-1)):.0f}\")\n",
        "print(\"\")\n",
        "print(\"Respuesta 5:\")\n",
        "print(f\"El lugar para el número 20480 será: {(np.log((20480/1.25))/np.log(2))+1}\")\n"
      ]
    },
    {
      "cell_type": "markdown",
      "metadata": {
        "id": "Ju4J8uWfxQKk"
      },
      "source": [
        "# Problema 10"
      ]
    },
    {
      "cell_type": "markdown",
      "metadata": {
        "id": "F6FPVCXQxTMj"
      },
      "source": [
        "Una empresa de tecnología está optimizando sus servidores. Para ello, mide cada mes las transacciones por segundo (TPS) de sus servidores. Se ha obtenido que el segundo mes, el rendimiento del servidor es $1,2$ miles de TPS y el quinto mes, el rendimiento es de $2,7$ miles de TPS. Determina utilizando un código en *Python*:\n",
        "\n",
        "1. ¿Cuál es el rendimiento el noveno mes?\n",
        "2. ¿En qué mes el rendimiento es de $23,4$ miles de TPS?\n",
        "\n",
        "Utilice dos decimales para el cálculo."
      ]
    },
    {
      "cell_type": "code",
      "execution_count": 16,
      "metadata": {},
      "outputs": [
        {
          "name": "stdout",
          "output_type": "stream",
          "text": [
            "Respuesta 1:\n",
            "La razón geométrica será: 1.31\n",
            "\n",
            "El primer término de la suceción geométrica será: 0.92\n",
            "El rendimiento para el noveno mes será: 7.98\n",
            "\n",
            "Respuesta 2:\n",
            "El lugar para el número 23.4 será: 13.0\n"
          ]
        }
      ],
      "source": [
        "import math as np\n",
        "#Expresion es a1(primer termino) * (r(razón) ** (n-1))\n",
        "#Al se aumento tendremos que sera 100% - 10% = 900% = 0.9 lo que vendría a ser nuestra razón\n",
        "A2 = 1.2\n",
        "A5 = 2.7 \n",
        "#\n",
        "print(\"Respuesta 1:\")\n",
        "r = round((A5/A2)**(1/3),2)\n",
        "print(f\"La razón geométrica será: {r}\")\n",
        "print(\"\")\n",
        "a1 = round((A5)/(r**(5-1)),2)\n",
        "print(f\"El primer término de la suceción geométrica será: {a1}\")\n",
        "print(F\"El rendimiento para el noveno mes será: {round((a1 * r**(9-1)),2)}\")\n",
        "print(\"\")\n",
        "print(\"Respuesta 2:\")\n",
        "print(f\"El lugar para el número 23.4 será: {round(((np.log((23.4/a1))/np.log(r))+1),1)}\")"
      ]
    },
    {
      "cell_type": "markdown",
      "metadata": {
        "id": "jxQyaJXUCW7m"
      },
      "source": [
        "# Problema 11"
      ]
    },
    {
      "cell_type": "markdown",
      "metadata": {
        "id": "8LdxsBUwDfbf"
      },
      "source": [
        "Una aplicación de redes sociales inició el $1$ de enero y comenzó a ganar usuarios rápidamente. El $3$ de enero tenía $500$ usuarios y el $10$ de enero tenía $1.501$ usuarios. Si el número de usuarios sigue creciendo de manera constante, determine:\n",
        "\n",
        "1. ¿Con cuántos usuarios comenzó a funcionar la aplicación?\n",
        "2. ¿Cuántos usuarios tendrá la aplicación el $31$ de enero?\n",
        "3. Si la aplicación tiene $5.505$ usuarios, ¿cuántos meses lleva funcionando?\n",
        "\n"
      ]
    },
    {
      "cell_type": "code",
      "execution_count": 22,
      "metadata": {},
      "outputs": [
        {
          "name": "stdout",
          "output_type": "stream",
          "text": [
            "Respuesta 1:\n",
            "La aplicación comenzo a funcionar con 107.0 usuarios\n",
            "\n",
            "Respuesta 2:\n",
            "La aplicación al dia 31 de enero tendrá: 4397.0 usuarios\n",
            "\n",
            "Respuesta 3:\n",
            "Cantidad de dias: 38.74825174825175\n",
            "Por lo tanto la aplicación lleva un mes y un poco mas funcionando\n"
          ]
        }
      ],
      "source": [
        "#an = a1 + d (n-1)\n",
        "#a1 = (an/(n-1))-d\n",
        "#500 = a1 + 2d  ->\n",
        "#a1 = 500 -2d\n",
        "#1501 = a1 + 9d\n",
        "#a1 = 1501 - 9d\n",
        "#a1 = a1\n",
        "#1501 - 9d = 500 - 2d\n",
        "#1001 = 7d\n",
        "d = 1001/7\n",
        "a1 = (500/(3-1))-d\n",
        "print(\"Respuesta 1:\")\n",
        "print(f\"La aplicación comenzo a funcionar con {a1} usuarios\")\n",
        "print(\"\")\n",
        "print(\"Respuesta 2:\")\n",
        "print(f\"La aplicación al dia 31 de enero tendrá: {a1 + d * (31-1)} usuarios\")\n",
        "print(\"\")\n",
        "print(\"Respuesta 3:\")\n",
        "print(f\"Cantidad de dias: {((5505-a1)/d)+1}\")\n",
        "print(f\"Por lo tanto la aplicación lleva un mes y un poco mas funcionando\")"
      ]
    },
    {
      "cell_type": "markdown",
      "metadata": {
        "id": "zBN3BhYVLLSe"
      },
      "source": [
        "# Problema 12"
      ]
    },
    {
      "cell_type": "markdown",
      "metadata": {
        "id": "kszkhh_GLQN1"
      },
      "source": [
        "Una empresa de publicidad ofrece para un puesto de trabajo un salario inicial y un aumento mensual en una razón constante. Javier se presenta a la entrevista, y el encargado del departamento de recursos humanos le explica que en el segundo mes de trabajo su sueldo será de $\\$402.000$, y que en el tercer mes de trabajo será de $\\$404.010$. Determine:\n",
        "\n",
        "1. El salario aproximado que Javier recibiría en el décimo mes de trabajo en la empresa.\n",
        "2. ¿Cuál sería el ingreso total recibido por los sueldos de Javier durante el tercer año de trabajo?"
      ]
    },
    {
      "cell_type": "markdown",
      "metadata": {
        "id": "-lx5k4b9Y8sD"
      },
      "source": [
        "# Problema 13"
      ]
    },
    {
      "cell_type": "markdown",
      "metadata": {
        "id": "OVuWQuXsY_pp"
      },
      "source": [
        "Una empresa de ciberseguridad capacita trabajadores cada trimestre. En el primer trimestre capacitaron a $30$ trabajadores, en el segundo trimestre a $60$ trabajadores, y en el tercer trimestre a $120$ trabajadores. Si en los siguientes trimestres la empresa mantiene el mismo patrón de crecimiento, determine utilizando *Python*:\n",
        "\n",
        "1. ¿A cuántos trabajadores capacitarán en el octavo trimestre?\n",
        "2. Si la empresa lleva en el mercado $3$ años, ¿a cuántos trabajadores han capacitado en total?"
      ]
    },
    {
      "cell_type": "markdown",
      "metadata": {
        "id": "IM7Xf51G6AXs"
      },
      "source": [
        "# Problema 14"
      ]
    },
    {
      "cell_type": "markdown",
      "metadata": {
        "id": "Ni_4WMQl6OeV"
      },
      "source": [
        "Al llenar un tambor con agua, se registra que durante el minuto $4$ el tambor recibe $128$ litros, y durante el minuto $9$ recibe $88$ litros. Sabiendo que en cada minuto recibe una cantidad $d$ de litros de agua menos que en el minuto anterior, determine:\n",
        "\n",
        "1. ¿En qué instante el tambor deja de recibir agua?\n",
        "2. ¿Cuántos litros recibe en total el tambor?\n",
        "\n",
        "Realice los cálculos anteriores utilizando *Python*."
      ]
    }
  ],
  "metadata": {
    "colab": {
      "provenance": []
    },
    "kernelspec": {
      "display_name": "base",
      "language": "python",
      "name": "python3"
    },
    "language_info": {
      "codemirror_mode": {
        "name": "ipython",
        "version": 3
      },
      "file_extension": ".py",
      "mimetype": "text/x-python",
      "name": "python",
      "nbconvert_exporter": "python",
      "pygments_lexer": "ipython3",
      "version": "3.8.5"
    }
  },
  "nbformat": 4,
  "nbformat_minor": 0
}
