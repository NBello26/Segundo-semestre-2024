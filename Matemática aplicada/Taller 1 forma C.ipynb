{
 "cells": [
  {
   "cell_type": "markdown",
   "metadata": {},
   "source": [
    "# Lluvias torrenciales, un desafío para las ciudades — ¿podrás evitar el diluvio?"
   ]
  },
  {
   "cell_type": "markdown",
   "metadata": {},
   "source": [
    "Integrantes:\n",
    "- Nicolás Bello\n",
    "- Rodrigo Vargas\n",
    "- Francisco Vera"
   ]
  },
  {
   "cell_type": "markdown",
   "metadata": {},
   "source": [
    "## Instrucciones\n",
    "\n",
    "1. Lea detenidamente el enunciado y las preguntas.\n",
    "2. Escriba sus desarrollos a continuación de la celda que dice “Desarrollo”.\n",
    "3. Sus respuestas deben estar justificadas y su desarrollo debe ser ordenado y claro.\n",
    "4. Se sugiere usar una celda de texto (markdown) con el número de la pregunta, una o más celdas de código para el desarrollo y luego una celda de texto (markdown) para escribir la respuesta.\n",
    "5. Guarde su progreso antes de cerrar el programa."
   ]
  },
  {
   "cell_type": "markdown",
   "metadata": {},
   "source": [
    "## Enunciado"
   ]
  },
  {
   "cell_type": "markdown",
   "metadata": {},
   "source": [
    "En época invernal, es común que algunas ciudades experimenten lluvias intensas, lo que puede poner a prueba su infraestructura. Este año, ciudades como Valparaíso, Santiago y Concepción han registrado precipitaciones que requieren atención especial.\n",
    "\n",
    "\n",
    "Podemos representar la cantidad de agua acumulada en un día, en milímetros (mm), en cada ciudad con respecto al tiempo transcurrido en horas (t) a través de las siguientes funciones cuadráticas:\n",
    "\n",
    "**Valparaíso**: $$V(t)=0,9t^{2}+12,5t+36$$\n",
    "\n",
    "**Santiago**: $$S(t) =0,95t^{2}+16,8t+31$$\n",
    "\n",
    "**Concepción**: $$C(t) = 1,1t^{2}+19,4t+26$$\n",
    "\n",
    "Se sabe que los sistemas de alcantarillado de las ciudades no pueden acumular más de 100 mm de agua en un periodo de 4 horas. Si se supera este umbral, será necesario enviar equipos de emergencia para evitar inundaciones.\n",
    "\n",
    "Con ayuda de Python responde las siguientes preguntas:\n",
    "\n",
    "1. ¿Cuál sería la cantidad de agua acumulada en cada una de las ciudades al cabo de 40 minutos?\n",
    "1. Grafique las funciones respectivas.\n",
    "1. Si la lluvia comenzó en Valparaíso a las 16:45 horas, en Santiago a las 17:45 horas y en Concepción a las 18:15 horas, ¿cuál será el total de agua caída a las 20:00 horas en cada ciudad?\n",
    "1. ¿Después de cuánto tiempo cada ciudad requerirá por primera vez de la ayuda de los equipos de emergencia?\n",
    "1. Se espera que la lluvia dure 12 horas ininterrumpidas. Para gestionar posibles emergencias, se dispondrá de dos equipos de intervención:\n",
    "   - El primer equipo trabajará durante las primeras 6 horas de lluvia.\n",
    "   - El segundo equipo tomará el relevo durante las últimas 6 horas.\n",
    "\n",
    "   Basándote en el comportamiento de la acumulación de agua en las ciudades de Valparaíso, Santiago y Concepción. Analiza cómo cambia la acumulación de agua en cada ciudad a lo largo del día. ¿Cuál equipo tendrá que ir a revisar el alcantarillado con mayor frecuencia debido a la acumulación de agua? Justifica tu respuesta considerando la forma de las funciones que describen la acumulación de agua."
   ]
  },
  {
   "cell_type": "markdown",
   "metadata": {},
   "source": [
    "## Desarrollo"
   ]
  },
  {
   "cell_type": "code",
   "execution_count": 1,
   "metadata": {},
   "outputs": [],
   "source": [
    "#Bibliotecas necesarias para la resolución\n",
    "#Función para separar precios segun miles ejemplo: Tengo 10000 lo convertira en 10.000 \n",
    "def formatear_precio_miles(precio):\n",
    "    return f\"{precio:,.0f}\".replace(',', 'X').replace('.', ',').replace('X', '.');\n",
    "\n",
    "#np.log para logaritmos\n",
    "#np.exp para exponentes\n",
    "\n",
    "# Se llama a la biblioteca numpy, para trabajar con arreglos de datos\n",
    "import numpy as np\n",
    "# Módulo de la biblioteca scipy que nos permitirá poder resolver ecuaciones no necesariamente lineales\n",
    "# a través de la función fsolve\n",
    "from scipy.optimize import fsolve\n",
    "import matplotlib.pyplot as plt\n",
    "import math"
   ]
  },
  {
   "cell_type": "markdown",
   "metadata": {},
   "source": [
    "Pregunta 1:\n",
    "¿Cuál sería la cantidad de agua acumulada en cada una de las ciudades al cabo de 40 minutos?"
   ]
  },
  {
   "cell_type": "code",
   "execution_count": 46,
   "metadata": {},
   "outputs": [
    {
     "name": "stdout",
     "output_type": "stream",
     "text": [
      "\n",
      "Primero transformamos los 40 minutos en horas lo que nos da: 0.7, el resultado era 0,6 periodico pero para el calculo consideraremos aproximando a un decimal, dandonos 0,7\n",
      "Respuesta:\n",
      "Valparaíso: La cantidad de agua acumulada al cabo de 40 minutos será: 45.2 milimetros\n",
      "Santiago: La cantidad de agua acumulada al cabo de 40 minutos será: 43.2 milimetros\n",
      "Concepción: La cantidad de agua acumulada al cabo de 40 minutos será: 40.1 milimetros\n",
      "\n"
     ]
    }
   ],
   "source": [
    "def V(t):\n",
    "    return (0.9*(t**2)) + (12.5*t) + 36\n",
    "def S(t):\n",
    "    return (0.95*(t**2)) + (16.8*t) + 31\n",
    "def C(t):\n",
    "    return (1.1*(t**2)) + (19.4*t) + 26\n",
    "\n",
    "print(f\"\");\n",
    "print(f\"Primero transformamos los 40 minutos en horas lo que nos da: {(40/60):.1f}, el resultado era 0,6 periodico pero para el calculo consideraremos aproximando a un decimal, dandonos 0,7\")\n",
    "print(f\"Respuesta:\");\n",
    "print(f\"Valparaíso: La cantidad de agua acumulada al cabo de 40 minutos será: {V(0.7):.1f} milimetros\");\n",
    "print(f\"Santiago: La cantidad de agua acumulada al cabo de 40 minutos será: {S(0.7):.1f} milimetros\")\n",
    "print(f\"Concepción: La cantidad de agua acumulada al cabo de 40 minutos será: {C(0.7):.1f} milimetros\")\n",
    "print(\"\")"
   ]
  },
  {
   "cell_type": "markdown",
   "metadata": {},
   "source": [
    "Pregunta 2: Grafique las funciones respectivas.\n",
    "\n",
    "Para el grafico consideramos un periodo de 4 horas transcurridas."
   ]
  },
  {
   "cell_type": "code",
   "execution_count": 45,
   "metadata": {},
   "outputs": [
    {
     "data": {
      "image/png": "[encoded data removed]",
      "text/plain": [
       "<Figure size 432x288 with 1 Axes>"
      ]
     },
     "metadata": {
      "needs_background": "light"
     },
     "output_type": "display_data"
    },
    {
     "name": "stdout",
     "output_type": "stream",
     "text": [
      "\n"
     ]
    }
   ],
   "source": [
    "t = np.arange(0,5,1);\n",
    "plt.plot(t,V(t),label='Valparaíso', color='cyan');\n",
    "plt.plot(t,S(t),label='Santiago', color='blue');\n",
    "plt.plot(t,C(t),label='Concepción', color='red');\n",
    "plt.legend()\n",
    "plt.grid()\n",
    "plt.title(\"Cantidad de agua caída por hora transcurrida\");\n",
    "plt.xlabel(\"Tiempo transcurrido(horas)\");\n",
    "plt.ylabel(\"Cantidad de lluvia caída(mm)\");\n",
    "plt.show();\n",
    "print(\"\");"
   ]
  },
  {
   "cell_type": "markdown",
   "metadata": {},
   "source": [
    "Pregunta 3: Si la lluvia comenzó en Valparaíso a las 16:45 horas, en Santiago a las 17:45 horas y en Concepción a las 18:15 horas, ¿cuál será el total de agua caída a las 20:00 horas en cada ciudad?"
   ]
  },
  {
   "cell_type": "code",
   "execution_count": 35,
   "metadata": {},
   "outputs": [
    {
     "name": "stdout",
     "output_type": "stream",
     "text": [
      "Respuesta:\n",
      "Valparaíso:\n",
      "Primero restamos la hora final con la inicial para sacar la cantidad de tiempo transcurrido en horas: 20:00 - 16:45 = 3 horas 15 min = 3.25 horas\n",
      "Sabiendo el tiempo transcurrido la cantidad de agua caída entre las 16:45 hasta las 20:00 será: 86.1 milimetros\n",
      "\n",
      "Santiago:\n",
      "Primero restamos la hora final con la inicial para sacar la cantidad de tiempo transcurrido en horas: 20:00 - 17:45 = 2 horas 15 min = 2.25 horas\n",
      "Sabiendo el tiempo transcurrido la cantidad de agua caída entre las 17:45 hasta las 20:00 será: 73.6 milimetros\n",
      "\n",
      "Concepción:\n",
      "Primero restamos la hora final con la inicial para sacar la cantidad de tiempo transcurrido en horas: 20:00 - 18:15 = 1 horas 45 min = 1.75 horas\n",
      "Sabiendo el tiempo transcurrido la cantidad de agua caída entre las 18:15 hasta las 20:00 será: 63.3 milimetros\n"
     ]
    }
   ],
   "source": [
    "print(f\"Respuesta:\");\n",
    "print(f\"Valparaíso:\");\n",
    "print(f\"Primero restamos la hora final con la inicial para sacar la cantidad de tiempo transcurrido en horas: 20:00 - 16:45 = 3 horas 15 min = 3.25 horas\")\n",
    "print(f\"Sabiendo el tiempo transcurrido la cantidad de agua caída entre las 16:45 hasta las 20:00 será: {V(3.25):.1f} milimetros\")\n",
    "print(\"\")\n",
    "print(f\"Santiago:\");\n",
    "print(f\"Primero restamos la hora final con la inicial para sacar la cantidad de tiempo transcurrido en horas: 20:00 - 17:45 = 2 horas 15 min = 2.25 horas\")\n",
    "print(f\"Sabiendo el tiempo transcurrido la cantidad de agua caída entre las 17:45 hasta las 20:00 será: {S(2.25):.1f} milimetros\")\n",
    "print(\"\")\n",
    "print(f\"Concepción:\");\n",
    "print(f\"Primero restamos la hora final con la inicial para sacar la cantidad de tiempo transcurrido en horas: 20:00 - 18:15 = 1 horas 45 min = 1.75 horas\")\n",
    "print(f\"Sabiendo el tiempo transcurrido la cantidad de agua caída entre las 18:15 hasta las 20:00 será: {C(1.75):.1f} milimetros\")"
   ]
  },
  {
   "cell_type": "markdown",
   "metadata": {},
   "source": [
    "Pregunta 4: ¿Después de cuánto tiempo cada ciudad requerirá por primera vez de la ayuda de los equipos de emergencia?"
   ]
  },
  {
   "cell_type": "code",
   "execution_count": 29,
   "metadata": {},
   "outputs": [
    {
     "name": "stdout",
     "output_type": "stream",
     "text": [
      "Respuesta:\n",
      "Valparaíso: Después de 3.98 horas se requerirá la ayuda de los equipos de emergencia.\n",
      "Santiago: Después de 3.44 horas se requerirá la ayuda de los equipos de emergencia.\n",
      "Concepción: Después de 3.22 horas se requerirá la ayuda de los equipos de emergencia.\n"
     ]
    }
   ],
   "source": [
    "def VH(t):\n",
    "    return ((0.9*(t**2)) + (12.5*t) + 36) - 100\n",
    "def SH(t):\n",
    "    return ((0.95*(t**2)) + (16.8*t) + 31) - 100\n",
    "def CH(t):\n",
    "    return ((1.1*(t**2)) + (19.4*t) + 26) - 100\n",
    "print(f\"Respuesta:\");\n",
    "e = np.linspace(0,200,1)\n",
    "reV = fsolve(VH,e)\n",
    "reS = fsolve(SH,e)\n",
    "reC = fsolve(CH,e)\n",
    "print(f\"Valparaíso: Después de {reV[0]:.2f} horas se requerirá la ayuda de los equipos de emergencia.\")\n",
    "print(f\"Santiago: Después de {reS[0]:.2f} horas se requerirá la ayuda de los equipos de emergencia.\")\n",
    "print(f\"Concepción: Después de {reC[0]:.2f} horas se requerirá la ayuda de los equipos de emergencia.\")"
   ]
  },
  {
   "cell_type": "markdown",
   "metadata": {},
   "source": [
    "Pregunta 5:\n",
    "\n",
    "Se espera que la lluvia dure 12 horas ininterrumpidas. Para gestionar posibles emergencias, se dispondrá de dos equipos de intervención:\n",
    "   - El primer equipo trabajará durante las primeras 6 horas de lluvia.\n",
    "   - El segundo equipo tomará el relevo durante las últimas 6 horas.\n",
    "\n",
    "   Basándote en el comportamiento de la acumulación de agua en las ciudades de Valparaíso, Santiago y Concepción. Analiza cómo cambia la acumulación de agua en cada ciudad a lo largo del día. ¿Cuál equipo tendrá que ir a revisar el alcantarillado con mayor frecuencia debido a la acumulación de agua? Justifica tu respuesta considerando la forma de las funciones que describen la acumulación de agua."
   ]
  },
  {
   "cell_type": "code",
   "execution_count": 44,
   "metadata": {},
   "outputs": [
    {
     "name": "stdout",
     "output_type": "stream",
     "text": [
      "Graficaremos para poder apreciar mejor la caída de lluvia a traves de las 12 horas de trabajo\n"
     ]
    },
    {
     "data": {
      "image/png": "[encoded data removed]",
      "text/plain": [
       "<Figure size 432x288 with 1 Axes>"
      ]
     },
     "metadata": {
      "needs_background": "light"
     },
     "output_type": "display_data"
    },
    {
     "name": "stdout",
     "output_type": "stream",
     "text": [
      "\n",
      "Valparaíso:\n",
      "Para el primer equipo se acumulará 143.4 milimetros de agua caída\n",
      "Equipo uno interviene una vez a los 100mm\n",
      "Para el segundo se acumulará 315.6 milimetros de agua caída\n",
      "Equipo dos interviene dos veces a los 200mm y 300mm\n",
      "\n",
      "Santiago:\n",
      "Para el primer equipo se acumulará 166.0 milimetros de agua caída\n",
      "Equipo uno interviene una vez a los 100mm\n",
      "Para el segundo se acumulará 369.4 milimetros de agua caída\n",
      "Equipo dos interviene dos veces a los 200mm y 300mm\n",
      "\n",
      "Concepción:\n",
      "Para el primer equipo se acumulará 182.0 milimetros de agua caída\n",
      "Equipo uno interviene una vez a los 100mm\n",
      "Para el segundo se acumulará 417.2 milimetros de agua caída\n",
      "Equipo dos interviene dos veces a los 200mm, 300mm y 400mm\n"
     ]
    }
   ],
   "source": [
    "print(\"Graficaremos para poder apreciar mejor la caída de lluvia a traves de las 12 horas de trabajo\");\n",
    "t = np.arange(0,14,1);\n",
    "plt.plot(t,V(t),label='Valparaíso', color='cyan');\n",
    "plt.plot(t,S(t),label='Santiago', color='blue');\n",
    "plt.plot(t,C(t),label='Concepción', color='red');\n",
    "plt.legend()\n",
    "plt.grid()\n",
    "plt.title(\"Cantidad de agua caída por hora transcurrida\");\n",
    "plt.xlabel(\"Tiempo transcurrido(horas)\");\n",
    "plt.ylabel(\"Cantidad de lluvia caída(mm)\");\n",
    "plt.show();\n",
    "print(\"\");\n",
    "\n",
    "print(\"Valparaíso:\")\n",
    "print(f\"Para el primer equipo se acumulará {V(6):.1f} milimetros de agua caída\")\n",
    "print(\"Equipo uno interviene una vez a los 100mm\")\n",
    "print(f\"Para el segundo se acumulará {(V(12)):.1f} milimetros de agua caída\")\n",
    "print(\"Equipo dos interviene dos veces a los 200mm y 300mm\")\n",
    "print(\"\")\n",
    "print(f\"Santiago:\");\n",
    "print(f\"Para el primer equipo se acumulará {S(6):.1f} milimetros de agua caída\")\n",
    "print(\"Equipo uno interviene una vez a los 100mm\")\n",
    "print(f\"Para el segundo se acumulará {(S(12)):.1f} milimetros de agua caída\")\n",
    "print(\"Equipo dos interviene dos veces a los 200mm y 300mm\")\n",
    "print(\"\")\n",
    "print(f\"Concepción:\");\n",
    "print(f\"Para el primer equipo se acumulará {C(6):.1f} milimetros de agua caída\")\n",
    "print(\"Equipo uno interviene una vez a los 100mm\")\n",
    "print(f\"Para el segundo se acumulará {(C(12)):.1f} milimetros de agua caída\")\n",
    "print(\"Equipo dos interviene dos veces a los 200mm, 300mm y 400mm\")"
   ]
  },
  {
   "cell_type": "markdown",
   "metadata": {},
   "source": [
    "En base a lo analizado en el grafico anterior y lo calculado mediante las funciones, tendremos que el equipo 2 de cada region intervendra con mayor frecuencia puesto que en cada region, el equipo 1 solo interviene una vez durante las primeras 6 horas a diferencia de el equipo 2 que intervendra 2 o mas veces durante las ultimas 6 horas"
   ]
  }
 ],
 "metadata": {
  "kernelspec": {
   "display_name": "Python 3",
   "language": "python",
   "name": "python3"
  },
  "language_info": {
   "codemirror_mode": {
    "name": "ipython",
    "version": 3
   },
   "file_extension": ".py",
   "mimetype": "text/x-python",
   "name": "python",
   "nbconvert_exporter": "python",
   "pygments_lexer": "ipython3",
   "version": "3.8.5"
  }
 },
 "nbformat": 4,
 "nbformat_minor": 2
}
