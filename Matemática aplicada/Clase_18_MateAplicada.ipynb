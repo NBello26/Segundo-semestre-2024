{
 "cells": [
  {
   "cell_type": "code",
   "execution_count": 2,
   "metadata": {},
   "outputs": [],
   "source": [
    "import numpy as np"
   ]
  },
  {
   "cell_type": "markdown",
   "metadata": {
    "id": "UCCOMbmnLfHY"
   },
   "source": [
    "# Problema 1"
   ]
  },
  {
   "cell_type": "markdown",
   "metadata": {
    "id": "AHPLM97ONSwR"
   },
   "source": [
    "La fábrica de bicicletas Expend produce dos modelos de bicicletas, $M$ y $N$. La matriz $A$ nos indica las cantidades de acero y aluminio que requiere cada bicicleta, expresadas en kg según el modelo a producir, mientras que la matriz $B$ nos entrega un reporte de la cantidad de bicicletas producidas de ambos modelos para los dos primeros meses del año pasado.\n",
    "\n",
    "<br>\n",
    "\n",
    "\\begin{equation*}\n",
    "\\begin{matrix}\n",
    "& \\begin{matrix}\n",
    " & \\ \\ \\ \\  M & N\n",
    "\\end{matrix}  \\\\\n",
    "&A= \\begin{pmatrix}\n",
    "1 & 2 \\\\\n",
    "3 & 2 \\\\\n",
    "\\end{pmatrix} & \\ \\begin{matrix}\n",
    "Acero\\\\\n",
    "Aluminio\n",
    "\\end{matrix}\\\\\n",
    "\\end{matrix}\n",
    "\\ \\ \\ \\ \\ \\ \\ \\ \\ \\ \\ \\ \\ \\\n",
    "\\begin{matrix}\n",
    "& \\begin{matrix}\n",
    "& \\ \\ \\ \\ \\ \\ \\ ene & feb &\n",
    "\\end{matrix} & \\\\\n",
    "&B= \\begin{pmatrix}\n",
    "290 &  312 \\\\\n",
    " 345 &  413 \\\\\n",
    "\\end{pmatrix} & \\begin{matrix}\n",
    "M\\\\\n",
    "N\n",
    "\\end{matrix}\\\\\n",
    "\\end{matrix}\n",
    "\\end{equation*}\n",
    "\n",
    "<br>\n",
    "\n",
    "1. Indique el orden de cada matriz. ¿Es posible determinar la multiplicación entre ambas matrices? Justifique.\n",
    "2. Determine utilizando *Python* la matriz $C = A \\cdot B$\n",
    "3. Indique e interprete el valor de los elementos $c_{21}$ y $c_{11}$."
   ]
  },
  {
   "cell_type": "code",
   "execution_count": 4,
   "metadata": {},
   "outputs": [
    {
     "name": "stdout",
     "output_type": "stream",
     "text": [
      "Respuesta 1:\n",
      "Si es posible pues ambas matrices son de orden 2x2\n",
      "\n",
      "Respuesta 2:\n",
      "C = \n",
      "[[ 980 1138]\n",
      " [1560 1762]]\n",
      "\n",
      "Respuesta 3:\n",
      "C_21: El total de aluminio usado en el mes de enero para ambos modelos fue: 1560\n",
      "C_11: El total de acero usado en el mes de enero para ambos modelos fue: 980\n"
     ]
    }
   ],
   "source": [
    "print(\"Respuesta 1:\")\n",
    "print(\"Si es posible pues ambas matrices son de orden 2x2\")\n",
    "A = np.array([\n",
    "    [1,2],\n",
    "    [3,2]\n",
    "])\n",
    "B = np.array([\n",
    "    [290,312],\n",
    "    [345,413]\n",
    "])\n",
    "print(\"\")\n",
    "print(\"Respuesta 2:\")\n",
    "C = A.dot(B)\n",
    "print(f\"C = \\n{C}\")\n",
    "print(\"\")\n",
    "print(\"Respuesta 3:\")\n",
    "print(f\"C_21: El total de aluminio usado en el mes de enero para ambos modelos fue: {C[1][0]}\")\n",
    "print(f\"C_11: El total de acero usado en el mes de enero para ambos modelos fue: {C[0][0]}\")"
   ]
  },
  {
   "cell_type": "markdown",
   "metadata": {
    "id": "-RrxIa0hnYzC"
   },
   "source": [
    "# Problema 2"
   ]
  },
  {
   "cell_type": "markdown",
   "metadata": {
    "id": "ZZrsGY3JnYzD"
   },
   "source": [
    "Una pequeña cadena tiene restaurantes de comida rápida en Santiago, Concepción y Antofagasta, en los que vende hamburguesas, completos y mateadas. En un fin de semana, las cantidades de cada comida según cada sucursal se distribuyeron de acuerdo con la siguiente matriz $V$, donde las filas corresponden a los productos y las columnas a las sucursales, mientras que los precios, en pesos, de cada producto están expresados en la matriz $P$.\n",
    "\n",
    "<br>\n",
    "\n",
    "\\begin{split}\n",
    "V &= \\begin{pmatrix}\n",
    " 1300 &  900  &  800  \\\\\n",
    " 2100 &  1700 &  1500 \\\\\n",
    " 1500 &  1200 &  900  \\\\\n",
    "\\end{pmatrix}\\\\\n",
    "\\\\\n",
    "P &= \\begin{pmatrix}\n",
    " 4200 &  1500 & 3200 \\\\\n",
    "\\end{pmatrix}\n",
    "\\end{split}\n",
    "\n",
    "<br>\n",
    "\n",
    "Si $I = P \\cdot V$\n",
    "\n",
    "1. Indique el orden de cada matriz.\n",
    "2. Determine utilizando *Python* la matriz $I$.\n",
    "3. Indique e interprete el valor de los elementos $v_{32}$, $p_{12}$ e $i_{13}$."
   ]
  },
  {
   "cell_type": "code",
   "execution_count": 13,
   "metadata": {},
   "outputs": [
    {
     "name": "stdout",
     "output_type": "stream",
     "text": [
      "Respuesta 1:\n",
      "V = orden 3x3\n",
      "P = orden 3x1\n",
      "\n",
      "Respuesta 2:\n",
      "I = \n",
      "[[13410000 10170000  8490000]]\n",
      "\n",
      "Respuesta 3:\n",
      "V_32: La cantidad total de malteadas vendidos en Concepción fue de: 1200\n",
      "P_12: El precio de los completos es de: 1500\n",
      "I_13: La ganancia de la sucursal en Antofagasta es de: 8490000\n"
     ]
    }
   ],
   "source": [
    "V = np.array([\n",
    "[1300 , 900  , 800 ],\n",
    "[2100 , 1700 , 1500],\n",
    "[1500 , 1200 , 900 ]\n",
    "])\n",
    "\n",
    "P = np.array([\n",
    "[4200 ,  1500 , 3200 ]\n",
    "])\n",
    "\n",
    "print(\"Respuesta 1:\")\n",
    "print(\"V = orden 3x3\")\n",
    "print(\"P = orden 3x1\")\n",
    "print(\"\")\n",
    "print(\"Respuesta 2:\")\n",
    "I = P.dot(V)\n",
    "print(f\"I = \\n{I}\")\n",
    "print(\"\")\n",
    "print(\"Respuesta 3:\")\n",
    "print(f\"V_32: La cantidad total de malteadas vendidos en Concepción fue de: {V[2][1]}\")\n",
    "print(f\"P_12: El precio de los completos es de: {P[0][1]}\")\n",
    "print(f\"I_13: La ganancia de la sucursal en Antofagasta es de: {I[0][2]}\")"
   ]
  },
  {
   "cell_type": "markdown",
   "metadata": {
    "id": "alV0X-YntESs"
   },
   "source": [
    "# Problema 3"
   ]
  },
  {
   "cell_type": "markdown",
   "metadata": {
    "id": "zFKFesabtL6N"
   },
   "source": [
    "Una fábrica, para un mismo tipo de artículo eléctrico produce $2$ modelos, $A$ y $B$. Las filas de la matriz $M$, en el orden mencionado, nos muestran la cantidad de transistores y resistores que se requieren por cada artículo, según cada modelo. Por otra parte, las filas de la matriz $Q$ nos reportan las cantidades producidas de cada modelo para las tres primeras semanas del mes pasado.\n",
    "\n",
    "<br>\n",
    "\n",
    "\\begin{split}\n",
    "M = \\begin{pmatrix}\n",
    " 9 &  14 \\\\\n",
    " 4 &  5  \\\\\n",
    "\\end{pmatrix} \\ \\ \\ \\ \\ \\ \\ \\ Q = \\begin{pmatrix}\n",
    " 200 &  240 & 220 \\\\\n",
    " 175 &  210 & 215 \\\\\n",
    "\\end{pmatrix}\n",
    "\\end{split}\n",
    "\n",
    "<br>\n",
    "\n",
    "Además, considere las matrices $G = M \\cdot Q$ y $H = Q \\cdot M$.\n",
    "\n",
    "1. Indique el orden de $M$ y $Q$.\n",
    "2. ¿Es posible calcular las matrices $G$ y $H$? Justifique.\n",
    "3. Determine utilizando *Python* la matriz $G$ e interprete los elementos $g_{23}$  y $g_{12}$.\n",
    "4. ¿Cuántos resistores se utilizaron durante las tres semanas?"
   ]
  },
  {
   "cell_type": "code",
   "execution_count": 3,
   "metadata": {},
   "outputs": [
    {
     "name": "stdout",
     "output_type": "stream",
     "text": [
      "Respuesta 1:\n",
      "M = orden 2x2\n",
      "Q = orden 2x3\n",
      "\n",
      "Respuesta 2:\n",
      "Si nos guiamos en que el número de columnas de la primera matriz debe coincidir con el número de filas de la segunda matriz, Sería viable calcular G y no es posible calcular H\n",
      "\n",
      "Respuesta 3:\n",
      "G = \n",
      "[[4250 5100 4990]\n",
      " [1675 2010 1955]]\n",
      "G_23: La cantidad total de resistores requeridos para la semana 3 es de: 1955\n",
      "G_12: La cantidad total de transistores requeridos para la semana 2 es de: 5100\n",
      "\n",
      "Respuesta 4:\n",
      "Durante las 3 semanas se usaron 5640 resistores\n"
     ]
    }
   ],
   "source": [
    "M = np.array([\n",
    "[9 , 14],\n",
    "[4 , 5]\n",
    "])\n",
    "\n",
    "Q = np.array([\n",
    "[200 ,  240 , 220 ],\n",
    "[175 ,  210 , 215 ]\n",
    "])\n",
    "\n",
    "G = M.dot(Q)\n",
    "print(\"Respuesta 1:\")\n",
    "print(\"M = orden 2x2\")\n",
    "print(\"Q = orden 2x3\")\n",
    "print(\"\")\n",
    "print(\"Respuesta 2:\")\n",
    "print(f\"Si nos guiamos en que el número de columnas de la primera matriz debe coincidir con el número de filas de la segunda matriz, Sería viable calcular G y no es posible calcular H\")\n",
    "print(\"\")\n",
    "print(\"Respuesta 3:\")\n",
    "print(f\"G = \\n{G}\")\n",
    "print(f\"G_23: La cantidad total de resistores requeridos para la semana 3 es de: {G[1][2]}\")\n",
    "print(f\"G_12: La cantidad total de transistores requeridos para la semana 2 es de: {G[0][1]}\")\n",
    "print(\"\")\n",
    "print(\"Respuesta 4:\")\n",
    "print(f\"Durante las 3 semanas se usaron {G[1][0]+G[1][1]+G[1][2]} resistores\")\n"
   ]
  },
  {
   "cell_type": "markdown",
   "metadata": {
    "id": "rSgW5H3l0MGI"
   },
   "source": [
    "# Problema 4"
   ]
  },
  {
   "cell_type": "markdown",
   "metadata": {
    "id": "AtetJk0N5mKL"
   },
   "source": [
    "Una empresa de telecomunicaciones necesita optimizar la distribución de su infraestructura de red en Iquique, Santiago y Concepción. Las columnas de la matriz $R$, en el orden mencionado, representan la cantidad de routers y switches que se deben instalar en cada ciudad. La matriz $C$ muestra el costo de instalación, en pesos, de cada router y switch.\n",
    "\n",
    "<br>\n",
    "\n",
    "\\begin{split}\n",
    "R = \\begin{pmatrix}\n",
    " 50 &  70 \\\\\n",
    " 80 &  110  \\\\\n",
    " 60 &  90  \\\\\n",
    "\\end{pmatrix} \\ \\ \\ \\ \\ \\ C = \\begin{pmatrix}\n",
    " 80000 \\\\\n",
    " 45000 \\\\\n",
    "\\end{pmatrix}\n",
    "\\end{split}\n",
    "\n",
    "<br>\n",
    "\n",
    "1. Calcula utilizando *Python* el costo total de instalación para cada ciudad y almacénalo en la matriz $T$.\n",
    "2. ¿Cuál es la ciudad que tiene mayor costo de instalación?\n",
    "3. Si se aplica un descuento del $10\\%$ en el costo de instalación de los switches, calcula el nuevo costo total de instalación para cada ciudad."
   ]
  },
  {
   "cell_type": "code",
   "execution_count": 6,
   "metadata": {},
   "outputs": [
    {
     "name": "stdout",
     "output_type": "stream",
     "text": [
      "Respuesta 1:\n",
      "T = \n",
      "[[ 7150000]\n",
      " [11350000]\n",
      " [ 8850000]]\n",
      "\n",
      "Respuesta 2:\n",
      "La ciudad con mayor costo de instalación es Santiago con un valor de 11350000 pesos\n",
      "\n",
      "Respuesta 3:\n",
      "El nuevo total es: \n",
      "[[ 6835000]\n",
      " [10855000]\n",
      " [ 8445000]]\n"
     ]
    }
   ],
   "source": [
    "R = np.array([\n",
    "[50,70],\n",
    "[80, 110],\n",
    "[60, 90]\n",
    "])\n",
    "\n",
    "C = np.array([\n",
    "[80000],\n",
    "[45000]\n",
    "])\n",
    "\n",
    "T = R.dot(C)\n",
    "print(\"Respuesta 1:\")\n",
    "print(f\"T = \\n{T}\")\n",
    "print(\"\")\n",
    "print(\"Respuesta 2:\")\n",
    "print(f\"La ciudad con mayor costo de instalación es Santiago con un valor de {T[1][0]} pesos\")\n",
    "print(\"\")\n",
    "print(\"Respuesta 3:\")\n",
    "C[1][0] = 0.9 * C[1][0]\n",
    "NT = R.dot(C)\n",
    "print(f\"El nuevo total es: \\n{NT}\")\n"
   ]
  },
  {
   "cell_type": "markdown",
   "metadata": {
    "id": "BApBYmuW1Gpj"
   },
   "source": [
    "# Problema 5"
   ]
  },
  {
   "cell_type": "markdown",
   "metadata": {
    "id": "ZLyggtwj1I58"
   },
   "source": [
    "Una empresa de servicios en la nube distribuye datos entre tres *Data Center*. La matriz $D$ muestra el volumen de datos (en terabytes) almacenados en cada *Data Center* durante los tres primeros meses del año. Mientras que la matriz $C$ muestra los costos (en dólares) de almacenamiento por terabyte en cada *Data Center*.\n",
    "\n",
    "<br>\n",
    "\n",
    "\\begin{equation*}\n",
    "\\begin{matrix}\n",
    "& \\begin{matrix}\n",
    "& \\ \\ \\ \\ \\ \\ \\ DC_{1} &   DC_{2} & DC_{3}&\n",
    "\\end{matrix} & \\\\\n",
    "&D = \\begin{pmatrix}\n",
    "100 & 150 & 200 \\\\\n",
    "120 & 180 & 220 \\\\\n",
    "140 & 210 & 250\n",
    "\\end{pmatrix} & \\begin{matrix}\n",
    "Ene\\\\\n",
    "Feb\\\\\n",
    "Mar\n",
    "\\end{matrix}\n",
    "\\end{matrix}\n",
    "\\ \\ \\ \\ \\ \\ \\ \\ \\ \\ \\ \\ \\ \\\n",
    "\\begin{matrix}\n",
    "& \\begin{matrix}\n",
    "\\   \n",
    "\\end{matrix} & \\\\\n",
    "&C = \\begin{pmatrix}\n",
    "50 \\\\\n",
    "40 \\\\\n",
    "30\n",
    "\\end{pmatrix}  \\begin{matrix}\n",
    "DC_{1}\\\\\n",
    "DC_{2}\\\\\n",
    "DC_{3}\n",
    "\\end{matrix}\\\\\n",
    "\\end{matrix}\n",
    "\\end{equation*}\n",
    "\n",
    "<br>\n",
    "\n",
    "1. Calcula utilizando *Python* la matriz $T = D \\cdot C$.\n",
    "2. Un trabajador indica que en febrero el costo por almacenamiento fue el más alto, ¿es cierta su afirmación?\n",
    "3. Debido a la inflación, el costo de almacenamiento por terabyte aumenta en un $2,3\\%$. Calcula el nuevo costo total de almacenamiento por mes e interprete cada uno de los elementos de la nueva matriz."
   ]
  },
  {
   "cell_type": "code",
   "execution_count": 13,
   "metadata": {},
   "outputs": [
    {
     "name": "stdout",
     "output_type": "stream",
     "text": [
      "Respuesta 1:\n",
      "T = \n",
      "[[17000]\n",
      " [19800]\n",
      " [22900]]\n",
      "\n",
      "Respuesta 2:\n",
      "Es falso pues el mes donde mas costo el almacenamiento fue en Marzo (22900).\n",
      "\n",
      "Respuesta 3:\n",
      "La nueva matriz es: \n",
      "[[17391. ]\n",
      " [20255.4]\n",
      " [23426.7]]\n",
      "El nuevo costo total el mes:\n",
      "Enero: 17391.0\n",
      "Febrero: 20255.399999999998\n",
      "Marzo: 23426.699999999997\n"
     ]
    }
   ],
   "source": [
    "D = np.array([\n",
    "[100 , 150 , 200 ],\n",
    "[120 , 180 , 220],\n",
    "[140 , 210 , 250]\n",
    "])\n",
    "\n",
    "C = np.array([\n",
    "    [50],\n",
    "    [40],\n",
    "    [30]]\n",
    ")\n",
    "\n",
    "T = D.dot(C)\n",
    "print(\"Respuesta 1:\")\n",
    "print(f\"T = \\n{T}\")\n",
    "print(\"\")\n",
    "print(\"Respuesta 2:\")\n",
    "print(f\"Es falso pues el mes donde mas costo el almacenamiento fue en Marzo ({T[2][0]}).\")\n",
    "print(\"\")\n",
    "print(f\"Respuesta 3:\")\n",
    "C = C*1.023\n",
    "NT = D.dot(C)\n",
    "print(f\"La nueva matriz es: \\n{NT}\")\n",
    "print(F\"El nuevo costo total el mes:\\nEnero: {NT[0][0]}\\nFebrero: {NT[1][0]}\\nMarzo: {NT[2][0]}\")"
   ]
  },
  {
   "cell_type": "markdown",
   "metadata": {
    "id": "Jpe3sG3sHvmD"
   },
   "source": [
    "# Problema 6"
   ]
  },
  {
   "cell_type": "markdown",
   "metadata": {
    "id": "gE8Q3mwKHxhj"
   },
   "source": [
    "Una compañía que fabrica un determinado producto, tiene $4$ plantas de producción y $5$ bodegas de almacenamiento. La matriz $T$ muestra las unidades de este producto que se generan mensualmente en la planta $i$ y que son transportadas a la bodega $j$, para quedar almacenadas allí durante el mes en que fueron producidas.\n",
    "\n",
    "Además, la matriz $C$ detalla, para el primer semestre del presente año, el costo unitario (en dólares) de almacenamiento del producto durante el mes $j$ en la bodega $i$.\n",
    "\n",
    "<br>\n",
    "\n",
    "\\begin{split}\n",
    "T = \\begin{pmatrix}\n",
    " 500 &  400  &  300 & 200 & 100 \\\\\n",
    " 600 &  500  &  400 & 300 & 200 \\\\\n",
    " 700 &  600  &  500 & 400 & 300 \\\\\n",
    " 800 &  700  &  600 & 500 & 400 \\\\\n",
    "\\end{pmatrix} \\ \\ \\ \\ \\ \\ C = \\begin{pmatrix}\n",
    " 5 &  6  &  7 &  8  &  9 & 6 \\\\\n",
    " 4 &  5  &  6 &  7  &  8 & 7 \\\\\n",
    " 3 &  4  &  5 &  6  &  7 & 9 \\\\\n",
    " 2 &  3  &  4 &  5  &  6 & 6 \\\\\n",
    " 8 &  5  &  6 &  3  &  7 & 5 \\\\\n",
    "\\end{pmatrix}\n",
    "\\end{split}\n",
    "\n",
    "<br>\n",
    "\n",
    "1. Determina la matriz $G = T \\cdot C$.\n",
    "2. Interpreta los elementos $t_{14}$, $c_{53}$ y $g_{35}$.\n",
    "3. ¿Cuánto cuesta almacenar una unidad del producto en la bodega $4$ durante marzo de este año?\n",
    "4. ¿Cuánto dinero gasta la empresa por almacenar la producción mensual de la planta $2$ durante el mes de abril?\n"
   ]
  },
  {
   "cell_type": "code",
   "execution_count": 15,
   "metadata": {},
   "outputs": [
    {
     "name": "stdout",
     "output_type": "stream",
     "text": [
      "Respuesta 1:\n",
      "G = \n",
      "[[ 6200  7300  8800  9900 11700 10200]\n",
      " [ 8400  9600 11600 12800 15400 13500]\n",
      " [10600 11900 14400 15700 19100 16800]\n",
      " [12800 14200 17200 18600 22800 20100]]\n",
      "\n",
      "Respuesta 2:\n",
      "T_14: Para la planta 1 bodega 4, se generaron 200 productos\n",
      "C_53: Para la bodega 5 el mes 3, el costo unitario es de 6\n",
      "G_35: Para la planta 3 el mes 5, el costo total de los productos generados será de 19100\n",
      "\n",
      "Respuesta 3:\n",
      "Cuesta 4 dolares\n",
      "\n",
      "Respuesta 4:\n",
      "La empresa gasta 12800 dolares por almacenar la producción mensual de abril en la planta 2\n"
     ]
    }
   ],
   "source": [
    "T = np.array([\n",
    "[500 ,  400  ,  300 , 200 , 100 ],\n",
    "[600 ,  500  ,  400 , 300 , 200 ],\n",
    "[700 ,  600  ,  500 , 400 , 300 ],\n",
    "[800 ,  700  ,  600 , 500 , 400 ]\n",
    "])\n",
    "\n",
    "C = np.array([\n",
    "[5 , 6  , 7 ,  8  ,  9 , 6],\n",
    "[4 , 5  , 6 ,  7  ,  8 , 7],\n",
    "[3 , 4  , 5 ,  6  ,  7 , 9],\n",
    "[2 , 3  , 4 ,  5  ,  6 , 6],\n",
    "[8 , 5  , 6 ,  3  ,  7 , 5]\n",
    "])\n",
    "\n",
    "G = T.dot(C)\n",
    "print(\"Respuesta 1:\")\n",
    "print(f\"G = \\n{G}\")\n",
    "print(\"\")\n",
    "print(\"Respuesta 2:\")\n",
    "print(f\"T_14: Para la planta 1 bodega 4, se generaron {T[0][3]} productos\")\n",
    "print(f\"C_53: Para la bodega 5 el mes 3, el costo unitario es de {C[4][2]}\")\n",
    "print(f\"G_35: Para la planta 3 el mes 5, el costo total de los productos generados será de {G[2][4]}\")\n",
    "print(\"\")\n",
    "print(f\"Respuesta 3:\")\n",
    "print(f\"Cuesta {C[3][2]} dolares\")\n",
    "print(\"\")\n",
    "print(\"Respuesta 4:\")\n",
    "print(f\"La empresa gasta {G[1][3]} dolares por almacenar la producción mensual de abril en la planta 2\")"
   ]
  },
  {
   "cell_type": "markdown",
   "metadata": {
    "id": "xDI75W2xzvrM"
   },
   "source": [
    "# Problema 7"
   ]
  },
  {
   "cell_type": "markdown",
   "metadata": {
    "id": "lNCVWxWhz7-L"
   },
   "source": [
    "Una empresa dedicada al desarrollo de software, que cuenta con tres sucuersales, necesita renovar los siguientes implementos para su personal: laptop de alto rendimiento, monitor externo de alta resolución, teclado mecánico, mouse ergonómico y disco duro de alta capacidad. Para esto, decide cotizar con tres proveedores y así encontrar el precio más conveniente para realizar la compra. La matriz $F$, en el orden mencionado, indica la cantidad de artículos que necesita comprar para cada sucursal. La matriz $G$ indica el precio unitario (en miles de pesos) de cada producto por proveedor.\n",
    "\n",
    "<br>\n",
    "\n",
    "\\begin{split}\n",
    "F = \\begin{pmatrix}\n",
    " 7 &  6  &  15 & 17 & 18 \\\\\n",
    " 5 &  10  &  20 & 13 & 12 \\\\\n",
    " 8 &  4  &  12 & 18 & 9 \\\\\n",
    "\\end{pmatrix} \\ \\ \\ \\ \\ \\ G = \\begin{pmatrix}\n",
    " 1700 &  1750 &  1800 \\\\\n",
    "  868 &  803  &  840  \\\\\n",
    "  165 &  160  &  150  \\\\\n",
    "  70  &  73  &   65   \\\\\n",
    "  110 &  124  &  115  \\\\\n",
    "\\end{pmatrix}\n",
    "\\end{split}\n",
    "\n",
    "<br>\n",
    "\n",
    "1. Calcula utilizando *Python* la matriz $D = F \\cdot G$.\n",
    "2. Interpreta los elementos $d_{33}$ y $d_{21}$.\n",
    "3. ¿Cuál es el proveedor más conveniente para realizar todas las compras?\n",
    "4. Si escoge el proveedor más conveniente, ¿en qué sucursal deberá invertir más dinero por la renovación de los implementos?"
   ]
  },
  {
   "cell_type": "code",
   "execution_count": 19,
   "metadata": {},
   "outputs": [
    {
     "name": "stdout",
     "output_type": "stream",
     "text": [
      "Respuesta 1:\n",
      "D = \n",
      "[[22753 22941 23065]\n",
      " [22710 22417 22625]\n",
      " [21302 21562 21765]]\n",
      "\n",
      "Respuesta 2:\n",
      "D_33: El costo total para la sucursal 3, usando el proovedor 3 será de 21765 miles de pesos\n",
      "D_33: El costo total para la sucursal 2, usando el proovedor 1 será de 22710 miles de pesos\n",
      "\n",
      "Respuesta 3:\n",
      "Costos totales por proovedor: \n",
      "Proovedor 1: 68759\n",
      "Proovedor 2: 67752\n",
      "Proovedor 3: 64629\n",
      "El proovedor mas conveniente es el proovedor 3\n",
      "\n",
      "Respuesta 4:\n",
      "En la sucursal numero 1\n"
     ]
    }
   ],
   "source": [
    "F = np.array([\n",
    " [7 ,  6  ,  15 , 17 , 18],\n",
    " [5 ,  10  ,  20 , 13 , 12],\n",
    " [8 ,  4  ,  12 , 18 , 9]\n",
    "])\n",
    "G = np.array([\n",
    "[1700 ,  1750 ,  1800],\n",
    "[  868 ,  803  ,  840 ],\n",
    "[  165 ,  160  ,  150 ],\n",
    "[  70  ,  73  ,   65  ],\n",
    "[  110 ,  124  ,  115 ]\n",
    "])\n",
    "\n",
    "D = F.dot(G)\n",
    "print(\"Respuesta 1:\")\n",
    "print(f\"D = \\n{D}\")\n",
    "print(\"\")\n",
    "print(\"Respuesta 2:\")\n",
    "print(f\"D_33: El costo total para la sucursal 3, usando el proovedor 3 será de {D[2][2]} miles de pesos\")\n",
    "print(f\"D_33: El costo total para la sucursal 2, usando el proovedor 1 será de {D[1][0]} miles de pesos\")\n",
    "print(\"\")\n",
    "print(\"Respuesta 3:\")\n",
    "prov1 = sum(D[:][0])\n",
    "prov2 = sum(D[:][1])\n",
    "prov3 = sum(D[:][2])\n",
    "print(f\"Costos totales por proovedor: \\nProovedor 1: {prov1}\\nProovedor 2: {prov2}\\nProovedor 3: {prov3}\")\n",
    "print(f\"El proovedor mas conveniente es el proovedor 3\")\n",
    "print(\"\")\n",
    "print(\"Respuesta 4:\")\n",
    "print(\"En la sucursal numero 1\")\n"
   ]
  },
  {
   "cell_type": "markdown",
   "metadata": {
    "id": "9NADqkF9I2jz"
   },
   "source": [
    "# Problema 8"
   ]
  },
  {
   "cell_type": "markdown",
   "metadata": {
    "id": "GkqTrVluI5IR"
   },
   "source": [
    "Sea la matriz $A$:\n",
    "\n",
    "<br>\n",
    "\n",
    "\\begin{split}\n",
    "A = \\begin{pmatrix}\n",
    " 3 &  1  &  2 \\\\\n",
    " 1 &  2  &  1 \\\\\n",
    " 4 &  1  &  3 \\\\\n",
    "\\end{pmatrix}\n",
    "\\end{split}\n",
    "\n",
    "<br>\n",
    "\n",
    "1. Calcula, utilizando *Python*, la matriz $A^{-1}$.\n",
    "2. Calcula la matriz $I = A \\cdot A^{-1}$.\n",
    "3. Calcula la matriz $I^{-1}$. Analiza este resultado, comparando con los resultados obtenidos en los ítems anteriores. ¿Puedes encontrar alguna relación para estas matrices?"
   ]
  },
  {
   "cell_type": "code",
   "execution_count": 6,
   "metadata": {},
   "outputs": [
    {
     "name": "stdout",
     "output_type": "stream",
     "text": [
      "Respuesta 1:\n",
      "Matriz inversa: \n",
      "AI:\n",
      "[[ 2.5 -0.5 -1.5]\n",
      " [ 0.5  0.5 -0.5]\n",
      " [-3.5  0.5  2.5]]\n",
      "Respuesta 2:\n",
      "Matriz identidad(A * A**-1): \n",
      "I:\n",
      "[[1. 0. 0.]\n",
      " [0. 1. 0.]\n",
      " [0. 0. 1.]]\n",
      "Respuesta 3:\n",
      "Matriz inversa I : \n",
      "II:\n",
      "[[1. 0. 0.]\n",
      " [0. 1. 0.]\n",
      " [0. 0. 1.]]\n"
     ]
    }
   ],
   "source": [
    "A =  np.array([\n",
    "    [3,1,2],\n",
    "    [1,2,1],\n",
    "    [4,1,3]\n",
    "])\n",
    "\n",
    "print(\"Respuesta 1:\")\n",
    "AI = np.linalg.inv(A)\n",
    "print(f\"Matriz inversa: \\nAI:\\n{AI}\")\n",
    "print(\"Respuesta 2:\")\n",
    "I = np.round(A.dot(AI))\n",
    "print(f\"Matriz identidad(A * A**-1): \\nI:\\n{I}\")\n",
    "print(\"Respuesta 3:\")\n",
    "II = np.linalg.inv(I)\n",
    "print(f\"Matriz inversa I : \\nII:\\n{II}\")"
   ]
  },
  {
   "cell_type": "markdown",
   "metadata": {
    "id": "69qgazcrO2AU"
   },
   "source": [
    "# Problema 9"
   ]
  },
  {
   "cell_type": "markdown",
   "metadata": {
    "id": "Iw6_2ghWvTJ_"
   },
   "source": [
    "1. Considera que el siguiente sistema de ecuaciones:\n",
    "\n",
    "<br>\n",
    "\n",
    "\\begin{split}\n",
    "2x + y & = 7 \\\\\n",
    "3x - 2y & = 21\n",
    "\\end{split}\n",
    "\n",
    "<br>\n",
    "\n",
    "$\\hspace{1cm}$ Se puede escribir matricialmente como:\n",
    "\n",
    "<br>\n",
    "\n",
    "\\begin{split}\n",
    "\\begin{pmatrix}\n",
    " 2  &  1 \\\\\n",
    " 3 & -2 \\\\\n",
    "\\end{pmatrix} \\cdot \\begin{pmatrix}\n",
    " x \\\\\n",
    " y \\\\\n",
    "\\end{pmatrix} = \\begin{pmatrix}\n",
    " 7 \\\\\n",
    " 21 \\\\\n",
    "\\end{pmatrix}\n",
    "\\end{split}\n",
    "\n",
    "<br>\n",
    "\n",
    "* Utiliza la matriz inversa para encontrar los valores de $x$ e $y$ que permiten satisfacer ambas ecuaciones simultáneamente.\n",
    "\n",
    "<br>\n",
    "\n",
    "2. Considera que el siguiente sistema de ecuaciones:\n",
    "\n",
    "<br>\n",
    "\n",
    "\\begin{split}\n",
    "h + m & = 60 \\\\\n",
    "0,16h + 0,2m & = 11\n",
    "\\end{split}\n",
    "\n",
    "<br>\n",
    "\n",
    "$\\hspace{1cm}$ Se puede escribir matricialmente como:\n",
    "\n",
    "<br>\n",
    "\n",
    "\\begin{split}\n",
    "\\begin{pmatrix}\n",
    " 1  &  1 \\\\\n",
    " 0,16 & 0,2 \\\\\n",
    "\\end{pmatrix} \\cdot \\begin{pmatrix}\n",
    " h \\\\\n",
    " m \\\\\n",
    "\\end{pmatrix} = \\begin{pmatrix}\n",
    " 60 \\\\\n",
    " 11 \\\\\n",
    "\\end{pmatrix}\n",
    "\\end{split}\n",
    "\n",
    "<br>\n",
    "\n",
    "* Utiliza la matriz inversa para encontrar los valores de $h$ y $m$ que permiten satisfacer el sistema de ecuaciones."
   ]
  },
  {
   "cell_type": "code",
   "execution_count": 29,
   "metadata": {},
   "outputs": [
    {
     "name": "stdout",
     "output_type": "stream",
     "text": [
      "Matriz inversa de A = \n",
      "[[ 0.28571429  0.14285714]\n",
      " [ 0.42857143 -0.28571429]]\n",
      "Los valores de x e y respectivamente son = \n",
      "5 y -3\n",
      "\n",
      "9.2:\n",
      "\n",
      "Matriz inversa de X = \n",
      "[[  5. -25.]\n",
      " [ -4.  25.]]\n",
      "Los valores de h e m respectivamente son = \n",
      "25 y 35\n"
     ]
    }
   ],
   "source": [
    "A = np.array([\n",
    "    [2,1],\n",
    "    [3,-2]\n",
    "])\n",
    "B = np.array([\n",
    "        [7],\n",
    "        [21]\n",
    "])\n",
    "\n",
    "AI = np.linalg.inv(A)\n",
    "print(F\"Matriz inversa de A = \\n{AI}\")\n",
    "\n",
    "sol = AI.dot(B)\n",
    "print(f\"Los valores de x e y respectivamente son = \\n{sol[0][0]:.0F} y {sol[1][0]:.0F}\")\n",
    "print(\"\")\n",
    "print(\"9.2:\\n\")\n",
    "X = np.array([\n",
    "    [1,1],\n",
    "    [0.16,0.2]\n",
    "])\n",
    "Z = np.array([\n",
    "    [60],\n",
    "    [11]\n",
    "])\n",
    "\n",
    "XI = np.linalg.inv(X)\n",
    "print(F\"Matriz inversa de X = \\n{XI}\")\n",
    "\n",
    "sol1 = XI.dot(Z)\n",
    "print(f\"Los valores de h e m respectivamente son = \\n{sol1[0][0]:.0F} y {sol1[1][0]:.0F}\")"
   ]
  },
  {
   "cell_type": "markdown",
   "metadata": {
    "id": "2t0kddN6afwB"
   },
   "source": [
    "# Problema 10"
   ]
  },
  {
   "cell_type": "markdown",
   "metadata": {
    "id": "UBNev_Aa3JFo"
   },
   "source": [
    "Considera los siguientes sistemas de ecuaciones:\n",
    "\n",
    "<br>\n",
    "\n",
    "**a)**\n",
    "\\begin{split}\n",
    "2m + 4p & = 2900 \\\\\n",
    "3m + 3p & = 3150\n",
    "\\end{split}\n",
    "<br>\n",
    "<br>\n",
    "**b)**\n",
    "\\begin{split}\n",
    "n + v & = 160 \\\\\n",
    "50n + 300v & = 23000\n",
    "\\end{split}\n",
    "\n",
    "<br>\n",
    "\n",
    "1. Escribe ambos sistemas de ecuaciones de forma matricial.\n",
    "1. Utiliza la matriz inversa para calcular las soluciones de ambos sistemas de ecuaciones.\n",
    "\n",
    "\n"
   ]
  },
  {
   "cell_type": "code",
   "execution_count": null,
   "metadata": {},
   "outputs": [],
   "source": [
    "A = np.array()"
   ]
  },
  {
   "cell_type": "markdown",
   "metadata": {
    "id": "17CU2FNFdMUi"
   },
   "source": [
    "# Problema 11"
   ]
  },
  {
   "cell_type": "markdown",
   "metadata": {
    "id": "oCE7O-GwUfFp"
   },
   "source": [
    "Una persona tiene $\\$8000$ en monedas de $\\$10$ y de $50$. El sistema de ecuaciones que representa la situación es el siguiente:\n",
    "\n",
    "<br>\n",
    "\n",
    "\\begin{split}\n",
    "x + y & = 200 \\\\\n",
    "10x + 50y & = 8000\n",
    "\\end{split}\n",
    "\n",
    "<br>\n",
    "\n",
    "1. ¿Qué representa cada variable?\n",
    "2. Explica qué representa cada una de las ecuaciones del sistema.\n",
    "3. ¿Cuántas monedas de $\\$10$ y de $\\$50$ tiene?"
   ]
  },
  {
   "cell_type": "code",
   "execution_count": 18,
   "metadata": {},
   "outputs": [
    {
     "name": "stdout",
     "output_type": "stream",
     "text": [
      "Respuesta 1:\n",
      "x -> Representa la cantidad de monedas de 10\n",
      "y -> Representa la cantidad de monedas de 50\n",
      "\n",
      "Respuesta 2:\n",
      "La primera ecuación corresponde a la suma entre cantidad de monedas que hay entre las de 10 y las de 50\n",
      "La segunda ecuación corresponde a la suma total entre las monedas de 10 y 50\n",
      "\n",
      "Respuesta 3:\n",
      "Hay 50.0 monedas de $10 y 150.0 monedas de $50\n"
     ]
    }
   ],
   "source": [
    "print(\"Respuesta 1:\")\n",
    "print(\"x -> Representa la cantidad de monedas de 10\")\n",
    "print(\"y -> Representa la cantidad de monedas de 50\")\n",
    "A= np.array([\n",
    "    [1,1],\n",
    "    [10,50]\n",
    "])\n",
    "B = np.array([\n",
    "    [200],\n",
    "    [8000]\n",
    "])\n",
    "\n",
    "AI = np.linalg.inv(A)\n",
    "print(\"\")\n",
    "print(\"Respuesta 2:\")\n",
    "print(\"La primera ecuación corresponde a la suma entre cantidad de monedas que hay entre las de 10 y las de 50\")\n",
    "print(\"La segunda ecuación corresponde a la suma total entre las monedas de 10 y 50\")\n",
    "valor = np.round(AI.dot(B))\n",
    "print(\"\")\n",
    "print(\"Respuesta 3:\")\n",
    "print(f\"Hay {valor[0][0]} monedas de $10 y {valor[1][0]} monedas de $50\")"
   ]
  },
  {
   "cell_type": "markdown",
   "metadata": {
    "id": "zO3T2HsmAag8"
   },
   "source": [
    "# Problema 12"
   ]
  },
  {
   "cell_type": "markdown",
   "metadata": {
    "id": "0dz7BgV4ayBZ"
   },
   "source": [
    "En una granja hay $132$ animales entre patos y vacas. En total hay $402$ patas. El sistema que modela la situación planteada es:\n",
    "\n",
    "<br>\n",
    "\n",
    "\\begin{split}\n",
    "p + v & = 132 \\\\\n",
    "2p + 4v & = 402\n",
    "\\end{split}\n",
    "\n",
    "<br>\n",
    "\n",
    "1. ¿Qué representan las incógnitas del sistema?\n",
    "2. ¿Cuántos patos hay?"
   ]
  },
  {
   "cell_type": "code",
   "execution_count": 20,
   "metadata": {},
   "outputs": [
    {
     "name": "stdout",
     "output_type": "stream",
     "text": [
      "Respuesta 1:\n",
      "p -> Representa la cantidad de patos\n",
      "v -> Representa la cantidad de vacas\n",
      "\n",
      "Respuesta 2:\n",
      "Hay 63.0 patos\n"
     ]
    }
   ],
   "source": [
    "print(\"Respuesta 1:\")\n",
    "print(\"p -> Representa la cantidad de patos\")\n",
    "print(\"v -> Representa la cantidad de vacas\")\n",
    "A= np.array([\n",
    "    [1,1],\n",
    "    [2,4]\n",
    "])\n",
    "B = np.array([\n",
    "    [132],\n",
    "    [402]\n",
    "])\n",
    "\n",
    "AI = np.linalg.inv(A)\n",
    "\n",
    "valor = np.round(AI.dot(B))\n",
    "print(\"\")\n",
    "print(\"Respuesta 2:\")\n",
    "print(f\"Hay {valor[0][0]} patos\")"
   ]
  },
  {
   "cell_type": "markdown",
   "metadata": {
    "id": "u4IT_mcqAc-h"
   },
   "source": [
    "# Problema 13"
   ]
  },
  {
   "cell_type": "markdown",
   "metadata": {
    "id": "OfPwXJUHs6hY"
   },
   "source": [
    "Luis compró $5$ cables USB y $6$ pendrives, en total canceló $\\$82.890$. Pablo compró a los mismos precios $3$ cables USB y $7$ pendrives, y canceló $\\$59.900$.\n",
    "\n",
    "El sistema que modela el problema es:\n",
    "\n",
    "<br>\n",
    "\n",
    "\\begin{split}\n",
    "5x + 6y &= 82890 \\\\\n",
    "3x +  7y &= 59900\n",
    "\\end{split}\n",
    "\n",
    "<br>\n",
    "\n",
    "\n",
    "1. ¿Qué representa cada incógnita en el contexto del problema?\n",
    "2. Determina cuánto pagaron por cada cable USB."
   ]
  },
  {
   "cell_type": "code",
   "execution_count": 21,
   "metadata": {},
   "outputs": [
    {
     "name": "stdout",
     "output_type": "stream",
     "text": [
      "Respuesta 1:\n",
      "x -> Representa el precio del cable usb (unitario)\n",
      "y -> Representa el precio del pendrive (unitario)\n",
      "\n",
      "Respuesta 2:\n",
      "El valor del usb sera de 12990.0\n"
     ]
    }
   ],
   "source": [
    "print(\"Respuesta 1:\")\n",
    "print(\"x -> Representa el precio del cable usb (unitario)\")\n",
    "print(\"y -> Representa el precio del pendrive (unitario)\")\n",
    "A = np.array([\n",
    "    [5,6],\n",
    "    [3,7]\n",
    "])\n",
    "B = np.array([\n",
    "    [82890],\n",
    "    [59900]\n",
    "])\n",
    "\n",
    "AI = np.linalg.inv(A)\n",
    "\n",
    "valor = np.round(AI.dot(B))\n",
    "print(\"\")\n",
    "print(\"Respuesta 2:\")\n",
    "print(f\"El valor del usb sera de {valor[0][0]}\")"
   ]
  }
 ],
 "metadata": {
  "colab": {
   "provenance": [],
   "toc_visible": true
  },
  "kernelspec": {
   "display_name": "Python 3",
   "name": "python3"
  },
  "language_info": {
   "codemirror_mode": {
    "name": "ipython",
    "version": 3
   },
   "file_extension": ".py",
   "mimetype": "text/x-python",
   "name": "python",
   "nbconvert_exporter": "python",
   "pygments_lexer": "ipython3",
   "version": "3.8.5"
  }
 },
 "nbformat": 4,
 "nbformat_minor": 0
}
